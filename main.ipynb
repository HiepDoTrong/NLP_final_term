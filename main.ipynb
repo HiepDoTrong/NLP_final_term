{
 "cells": [
  {
   "cell_type": "code",
   "execution_count": 155,
   "metadata": {},
   "outputs": [
    {
     "name": "stderr",
     "output_type": "stream",
     "text": [
      "[nltk_data] Downloading package stopwords to\n",
      "[nltk_data]     /home/dotronghiep/nltk_data...\n",
      "[nltk_data]   Package stopwords is already up-to-date!\n",
      "[nltk_data] Downloading package brown to\n",
      "[nltk_data]     /home/dotronghiep/nltk_data...\n",
      "[nltk_data]   Package brown is already up-to-date!\n",
      "[nltk_data] Downloading package wordnet to\n",
      "[nltk_data]     /home/dotronghiep/nltk_data...\n",
      "[nltk_data]   Package wordnet is already up-to-date!\n"
     ]
    }
   ],
   "source": [
    "import nltk\n",
    "import numpy as np\n",
    "from sklearn.utils import shuffle\n",
    "from nltk.corpus import stopwords, brown\n",
    "from torch.utils.data import TensorDataset, DataLoader\n",
    "nltk.download('stopwords')\n",
    "nltk.download('brown')\n",
    "nltk.download('wordnet')\n",
    "from nltk.stem import WordNetLemmatizer\n",
    "from nltk.tokenize import RegexpTokenizer\n",
    "from sklearn.metrics import accuracy_score, precision_score, recall_score, f1_score\n",
    "from matplotlib import pyplot as plt\n"
   ]
  },
  {
   "cell_type": "code",
   "execution_count": 156,
   "metadata": {},
   "outputs": [
    {
     "data": {
      "text/html": [
       "<div>\n",
       "<style scoped>\n",
       "    .dataframe tbody tr th:only-of-type {\n",
       "        vertical-align: middle;\n",
       "    }\n",
       "\n",
       "    .dataframe tbody tr th {\n",
       "        vertical-align: top;\n",
       "    }\n",
       "\n",
       "    .dataframe thead th {\n",
       "        text-align: right;\n",
       "    }\n",
       "</style>\n",
       "<table border=\"1\" class=\"dataframe\">\n",
       "  <thead>\n",
       "    <tr style=\"text-align: right;\">\n",
       "      <th></th>\n",
       "      <th>0</th>\n",
       "      <th>1</th>\n",
       "      <th>2</th>\n",
       "    </tr>\n",
       "  </thead>\n",
       "  <tbody>\n",
       "    <tr>\n",
       "      <th>0</th>\n",
       "      <td>1</td>\n",
       "      <td>0</td>\n",
       "      <td>impossible to stop basically means russia is n...</td>\n",
       "    </tr>\n",
       "    <tr>\n",
       "      <th>1</th>\n",
       "      <td>2</td>\n",
       "      <td>0</td>\n",
       "      <td>indeed. may russia soil then selves in terror ...</td>\n",
       "    </tr>\n",
       "    <tr>\n",
       "      <th>2</th>\n",
       "      <td>3</td>\n",
       "      <td>0</td>\n",
       "      <td>goodnight family, thanks to everyone for your ...</td>\n",
       "    </tr>\n",
       "    <tr>\n",
       "      <th>3</th>\n",
       "      <td>4</td>\n",
       "      <td>0</td>\n",
       "      <td>keep adding more sanctionsfastest way to get r...</td>\n",
       "    </tr>\n",
       "    <tr>\n",
       "      <th>4</th>\n",
       "      <td>5</td>\n",
       "      <td>0</td>\n",
       "      <td>russia does not get to rape ukraine in order t...</td>\n",
       "    </tr>\n",
       "    <tr>\n",
       "      <th>5</th>\n",
       "      <td>6</td>\n",
       "      <td>1</td>\n",
       "      <td>its already done de facto. east ukraineand cri...</td>\n",
       "    </tr>\n",
       "    <tr>\n",
       "      <th>6</th>\n",
       "      <td>7</td>\n",
       "      <td>1</td>\n",
       "      <td>russia takes most of sievierodonetsk city in e...</td>\n",
       "    </tr>\n",
       "    <tr>\n",
       "      <th>7</th>\n",
       "      <td>8</td>\n",
       "      <td>0</td>\n",
       "      <td>biden says us to send ukraine 'advanced rocket...</td>\n",
       "    </tr>\n",
       "    <tr>\n",
       "      <th>8</th>\n",
       "      <td>9</td>\n",
       "      <td>1</td>\n",
       "      <td>just in - biden us to send ukraine advanced ro...</td>\n",
       "    </tr>\n",
       "    <tr>\n",
       "      <th>9</th>\n",
       "      <td>10</td>\n",
       "      <td>0</td>\n",
       "      <td>why do you suppose i do not understand that. i...</td>\n",
       "    </tr>\n",
       "  </tbody>\n",
       "</table>\n",
       "</div>"
      ],
      "text/plain": [
       "    0  1                                                  2\n",
       "0   1  0  impossible to stop basically means russia is n...\n",
       "1   2  0  indeed. may russia soil then selves in terror ...\n",
       "2   3  0  goodnight family, thanks to everyone for your ...\n",
       "3   4  0  keep adding more sanctionsfastest way to get r...\n",
       "4   5  0  russia does not get to rape ukraine in order t...\n",
       "5   6  1  its already done de facto. east ukraineand cri...\n",
       "6   7  1  russia takes most of sievierodonetsk city in e...\n",
       "7   8  0  biden says us to send ukraine 'advanced rocket...\n",
       "8   9  1  just in - biden us to send ukraine advanced ro...\n",
       "9  10  0  why do you suppose i do not understand that. i..."
      ]
     },
     "execution_count": 156,
     "metadata": {},
     "output_type": "execute_result"
    }
   ],
   "source": [
    "import pandas as pd\n",
    "\n",
    "df = pd.read_csv('/home/dotronghiep/Documents/Datasets/Social_Listening/DataLabel.csv', header=None)\n",
    "df.head(10)"
   ]
  },
  {
   "cell_type": "code",
   "execution_count": 157,
   "metadata": {},
   "outputs": [],
   "source": [
    "X_row = df.iloc[:, 2].values\n",
    "y = df.iloc[:, 1].values"
   ]
  },
  {
   "cell_type": "code",
   "execution_count": 158,
   "metadata": {},
   "outputs": [
    {
     "name": "stdout",
     "output_type": "stream",
     "text": [
      "4108 1663\n"
     ]
    }
   ],
   "source": [
    "# Xác định số lượng mẫu của mỗi lớp\n",
    "class_0_count = np.sum(y == 0)\n",
    "class_1_count = np.sum(y == 1)\n",
    "print(class_0_count,class_1_count)"
   ]
  },
  {
   "cell_type": "code",
   "execution_count": 159,
   "metadata": {},
   "outputs": [],
   "source": [
    "from sklearn.model_selection import train_test_split\n",
    "\n",
    "X_train, X_test, y_train, y_test = train_test_split(X_row, y, test_size=0.2, random_state=42, stratify=y)"
   ]
  },
  {
   "cell_type": "markdown",
   "metadata": {},
   "source": [
    "# Train the model"
   ]
  },
  {
   "cell_type": "code",
   "execution_count": 160,
   "metadata": {},
   "outputs": [
    {
     "name": "stdout",
     "output_type": "stream",
     "text": [
      "4616\n"
     ]
    }
   ],
   "source": [
    "print(len(X_train))"
   ]
  },
  {
   "cell_type": "code",
   "execution_count": 161,
   "metadata": {},
   "outputs": [
    {
     "name": "stdout",
     "output_type": "stream",
     "text": [
      "4616\n"
     ]
    }
   ],
   "source": [
    "print(len(y_train))"
   ]
  },
  {
   "cell_type": "code",
   "execution_count": 162,
   "metadata": {},
   "outputs": [],
   "source": [
    "# lấy danh sách stopword\n",
    "stop = set(stopwords.words('english'))\n",
    "# stop = ()\n",
    "brown_words = set(word for word in brown.words() if word.lower() not in stop)|{\"biden\",\n",
    "                                                                               \"ukraine\",\"kiev\",\"kyiv\",\"zelensky\", \"ukrainian\", \"ukrainians\",\n",
    "                                                                               \"putin\",\"kremlin\", \"russia\", \"russian\", \"russians\",\n",
    "                                                                               \"not\", \"no\", \"nor\", \"against\", \"never\", \"nobody\", \"none\", \"nowhere\"}\n",
    "\n",
    "lemmatizer = WordNetLemmatizer()\n",
    "tokenizer = RegexpTokenizer(r'[a-zA-Z]+')"
   ]
  },
  {
   "cell_type": "code",
   "execution_count": 163,
   "metadata": {},
   "outputs": [],
   "source": [
    "def lemma(text):\n",
    "    words = tokenizer.tokenize(text)\n",
    "    cleaned_words = [lemmatizer.lemmatize(word, pos='v') for word in words if word in brown_words]\n",
    "    return cleaned_words\n",
    "\n",
    "\n",
    "# Loại bỏ stop words từ mỗi văn bản trong danh sách X\n",
    "X_cleaned = [lemma(text) for text in X_train]\n"
   ]
  },
  {
   "cell_type": "code",
   "execution_count": 164,
   "metadata": {},
   "outputs": [
    {
     "data": {
      "text/plain": [
       "[['ukraine', 'every', 'right', 'attack', 'russia', 'point'],\n",
       " ['real', 'men', 'defend', 'country', 'people', 'respect'],\n",
       " ['well',\n",
       "  'honest',\n",
       "  'russian',\n",
       "  'visit',\n",
       "  'board',\n",
       "  'quite',\n",
       "  'time',\n",
       "  'russia',\n",
       "  'start',\n",
       "  'military',\n",
       "  'build',\n",
       "  'ukraine',\n",
       "  'border',\n",
       "  'last',\n",
       "  'year',\n",
       "  'call',\n",
       "  'journalist'],\n",
       " ['poor',\n",
       "  'russian',\n",
       "  'regime',\n",
       "  'world',\n",
       "  'say',\n",
       "  'no',\n",
       "  'brutal',\n",
       "  'invasion',\n",
       "  'play',\n",
       "  'victim',\n",
       "  'get',\n",
       "  'ukraine'],\n",
       " ['definitely', 'arm', 'ukraine', 'teeth', 'keep', 'russia'],\n",
       " ['legitimate',\n",
       "  'security',\n",
       "  'concern',\n",
       "  'already',\n",
       "  'countries',\n",
       "  'members',\n",
       "  'military',\n",
       "  'base',\n",
       "  'nuclear',\n",
       "  'capability',\n",
       "  'wipe',\n",
       "  'russia',\n",
       "  'map',\n",
       "  'ukraine',\n",
       "  'make',\n",
       "  'zero',\n",
       "  'difference',\n",
       "  'putin',\n",
       "  'know',\n",
       "  'join',\n",
       "  'could',\n",
       "  'not',\n",
       "  'invade',\n",
       "  'point'],\n",
       " ['ukraine',\n",
       "  'shut',\n",
       "  'listen',\n",
       "  'russia',\n",
       "  'like',\n",
       "  'shut',\n",
       "  'listen',\n",
       "  'us',\n",
       "  'argue',\n",
       "  'otherwise',\n",
       "  'accept',\n",
       "  'kind',\n",
       "  'absurd',\n",
       "  'prevalent',\n",
       "  'among',\n",
       "  'riddle',\n",
       "  'cat',\n",
       "  'ladies'],\n",
       " ['question',\n",
       "  'whole',\n",
       "  'population',\n",
       "  'suffer',\n",
       "  'action',\n",
       "  'russia',\n",
       "  'enable',\n",
       "  'formation',\n",
       "  'many',\n",
       "  'people',\n",
       "  'die',\n",
       "  'putin',\n",
       "  'meddle',\n",
       "  'ukraine',\n",
       "  'find',\n",
       "  'plenty',\n",
       "  'evidence',\n",
       "  'russian',\n",
       "  'military',\n",
       "  'know'],\n",
       " ['think',\n",
       "  'exactly',\n",
       "  'way',\n",
       "  'world',\n",
       "  'need',\n",
       "  'give',\n",
       "  'way',\n",
       "  'otherwise',\n",
       "  'nothing',\n",
       "  'loose',\n",
       "  'lot',\n",
       "  'damage',\n",
       "  'use',\n",
       "  'nuclear',\n",
       "  'power',\n",
       "  'hope',\n",
       "  'ukraine',\n",
       "  'military',\n",
       "  'ahead',\n",
       "  'way',\n",
       "  'deal',\n",
       "  'nuclear',\n",
       "  'threats'],\n",
       " ['russian', 'troop', 'ukraine', 'war', 'condemn']]"
      ]
     },
     "execution_count": 164,
     "metadata": {},
     "output_type": "execute_result"
    }
   ],
   "source": [
    "X_cleaned[:10]"
   ]
  },
  {
   "cell_type": "code",
   "execution_count": 165,
   "metadata": {},
   "outputs": [],
   "source": [
    "import torch\n",
    "import gensim.downloader as api\n",
    "import csv\n",
    "from gensim.models.word2vec import Word2Vec"
   ]
  },
  {
   "cell_type": "code",
   "execution_count": 166,
   "metadata": {},
   "outputs": [
    {
     "name": "stdout",
     "output_type": "stream",
     "text": [
      "Using cuda device\n"
     ]
    }
   ],
   "source": [
    "device = \"cuda\" if torch.cuda.is_available() else \"cpu\"\n",
    "print(f\"Using {device} device\")"
   ]
  },
  {
   "cell_type": "code",
   "execution_count": 167,
   "metadata": {},
   "outputs": [
    {
     "data": {
      "text/plain": [
       "36"
      ]
     },
     "execution_count": 167,
     "metadata": {},
     "output_type": "execute_result"
    }
   ],
   "source": [
    "max_length = max(len(sentence) for sentence in X_cleaned)\n",
    "max_length"
   ]
  },
  {
   "cell_type": "code",
   "execution_count": 168,
   "metadata": {},
   "outputs": [
    {
     "name": "stdout",
     "output_type": "stream",
     "text": [
      "Vocabulary size: 1754\n"
     ]
    }
   ],
   "source": [
    "model = Word2Vec(X_cleaned, \n",
    "                 vector_size=100, \n",
    "                 window=11, \n",
    "                 min_count=5, \n",
    "                 workers=8, \n",
    "                 epochs=50)\n",
    "vocabulary = model.wv.index_to_key\n",
    "print(f\"Vocabulary size: {len(vocabulary)}\")"
   ]
  },
  {
   "cell_type": "code",
   "execution_count": 219,
   "metadata": {},
   "outputs": [
    {
     "name": "stdout",
     "output_type": "stream",
     "text": [
      "monster: 0.4678\n",
      "weak: 0.4245\n",
      "century: 0.3970\n",
      "hostile: 0.3895\n",
      "madness: 0.3772\n",
      "bloodshed: 0.3588\n",
      "threats: 0.3571\n",
      "horror: 0.3528\n",
      "hot: 0.3522\n",
      "bully: 0.3489\n"
     ]
    }
   ],
   "source": [
    "# Tìm từ gần nhất \n",
    "similar_words = model.wv.most_similar(\"putin\")\n",
    "for word, score in similar_words:\n",
    "    print(f\"{word}: {score:.4f}\")"
   ]
  },
  {
   "cell_type": "code",
   "execution_count": 170,
   "metadata": {},
   "outputs": [
    {
     "name": "stdout",
     "output_type": "stream",
     "text": [
      "(4613, 35, 100)\n",
      "(4613,)\n"
     ]
    }
   ],
   "source": [
    "import numpy as np\n",
    "import torch\n",
    "from torch.nn.utils.rnn import pad_sequence\n",
    "\n",
    "def vectorize(X, y, model=model):\n",
    "    X_vectors = []\n",
    "    y_vectors = []\n",
    "    # Chuyển từng từ trong mỗi câu thành vector biểu diễn và thêm padding\n",
    "    for sentence, label in zip(X, y):\n",
    "        # Tạo một danh sách để lưu trữ các vector biểu diễn của các từ trong câu\n",
    "        if sentence == []:\n",
    "            continue\n",
    "        sentence_vectors = []\n",
    "        for word in sentence:\n",
    "            # Kiểm tra xem từ đó có trong từ vựng của mô hình Word2Vec hay không\n",
    "            if word in model.wv:\n",
    "                word_vector = model.wv[word]\n",
    "                sentence_vectors.append(word_vector)\n",
    "            else:\n",
    "                # Nếu từ không có trong từ vựng, bạn có thể sử dụng một vector thay thế hoặc bỏ qua nó\n",
    "                # Ví dụ: word_vector = np.zeros((vector_size,))\n",
    "                pass\n",
    "\n",
    "        # Thêm padding cho câu để độ dài của mỗi câu là 35\n",
    "        while len(sentence_vectors) < 35:\n",
    "            sentence_vectors.append(np.zeros((100,)))  # Sử dụng vector zeros cho padding\n",
    "\n",
    "        # Chuyển danh sách các vector thành một tensor\n",
    "        sentence_tensor = torch.tensor(sentence_vectors)\n",
    "        # Thêm câu đã được padding vào danh sách X_vectors\n",
    "        X_vectors.append(sentence_tensor)\n",
    "        y_vectors.append(label)\n",
    "\n",
    "\n",
    "    # Chuyển danh sách X_vectors thành một tensor\n",
    "    X_padded = np.array(X_vectors)\n",
    "    y_padded = np.array(y_vectors)\n",
    "    return X_padded, y_padded\n",
    "\n",
    "# In ra kích thước của X_padded\n",
    "X_input, y_input = vectorize(X_cleaned, y_train)\n",
    "print(X_input.shape)\n",
    "print(y_input.shape)\n"
   ]
  },
  {
   "cell_type": "code",
   "execution_count": 208,
   "metadata": {},
   "outputs": [],
   "source": [
    "import torch\n",
    "import torch.nn as nn\n",
    "from sklearn.model_selection import StratifiedKFold\n",
    "from sklearn.metrics import accuracy_score\n",
    "\n",
    "class LSTMClassifier(nn.Module):\n",
    "    def __init__(self, input_size, hidden_size, num_layers, num_classes):\n",
    "        super(LSTMClassifier, self).__init__()\n",
    "        self.hidden_size = hidden_size\n",
    "        self.num_layers = num_layers\n",
    "        self.lstm = nn.LSTM(input_size, hidden_size, num_layers, batch_first=True)\n",
    "        self.fc1 = nn.Linear(hidden_size, 64)\n",
    "        self.fc2 = nn.Linear(64, num_classes)\n",
    "        self.relu = nn.ReLU()\n",
    "        self.dropout = nn.Dropout(0.3)\n",
    "        self.softmax = nn.Softmax(dim=1)\n",
    "    \n",
    "    def forward(self, x):\n",
    "        # Khởi tạo hidden state và cell state\n",
    "        h0 = torch.zeros(self.num_layers, x.size(0), self.hidden_size).to(x.device)\n",
    "        c0 = torch.zeros(self.num_layers, x.size(0), self.hidden_size).to(x.device)\n",
    "        \n",
    "        # Đưa đầu vào qua LSTM\n",
    "        out, _ = self.lstm(x, (h0, c0))\n",
    "        \n",
    "        # Lấy output của lớp cuối cùng\n",
    "        out = self.fc1(out[:, -1, :])\n",
    "        out = self.dropout(out)\n",
    "        out = self.relu(out)\n",
    "        out = self.fc2(out)\n",
    "        out = self.softmax(out)\n",
    "        return out\n",
    "\n",
    "# Định nghĩa các siêu tham số\n",
    "input_size = 100  # Kích thước của vectơ biểu diễn từ\n",
    "hidden_size = 128  # Kích thước của hidden state trong LSTM\n",
    "num_layers = 2  # Số lớp LSTM xếp chồng lên nhau\n",
    "num_classes = 2  # Số lớp đầu ra\n",
    "num_epochs = 100  # Số epoch\n",
    "lr = 0.0001\n",
    "batch_size = 256"
   ]
  },
  {
   "cell_type": "code",
   "execution_count": 209,
   "metadata": {},
   "outputs": [
    {
     "name": "stdout",
     "output_type": "stream",
     "text": [
      "Epoch 5, Loss validate: 0.6889326572418213\n",
      "Accuracy: 0.7118093174431203\n",
      "Precision: 0.0\n",
      "Recall: 0.0\n",
      "F1 Score: 0.0\n",
      "=========================================\n"
     ]
    },
    {
     "name": "stderr",
     "output_type": "stream",
     "text": [
      "/home/dotronghiep/anaconda3/envs/NLP/lib/python3.9/site-packages/sklearn/metrics/_classification.py:1469: UndefinedMetricWarning: Precision is ill-defined and being set to 0.0 due to no predicted samples. Use `zero_division` parameter to control this behavior.\n",
      "  _warn_prf(average, modifier, msg_start, len(result))\n"
     ]
    },
    {
     "name": "stdout",
     "output_type": "stream",
     "text": [
      "Epoch 10, Loss validate: 0.7099864482879639\n",
      "Accuracy: 0.2979414951245937\n",
      "Precision: 0.2905701754385965\n",
      "Recall: 0.9962406015037594\n",
      "F1 Score: 0.44991511035653653\n",
      "=========================================\n",
      "Epoch 15, Loss validate: 0.6956946849822998\n",
      "Accuracy: 0.6392199349945829\n",
      "Precision: 0.39755351681957185\n",
      "Recall: 0.48872180451127817\n",
      "F1 Score: 0.4384485666104553\n",
      "=========================================\n",
      "Epoch 20, Loss validate: 0.6620453000068665\n",
      "Accuracy: 0.6554712892741061\n",
      "Precision: 0.40225563909774437\n",
      "Recall: 0.40225563909774437\n",
      "F1 Score: 0.40225563909774437\n",
      "=========================================\n",
      "Epoch 25, Loss validate: 0.6731361746788025\n",
      "Accuracy: 0.6489707475622969\n",
      "Precision: 0.4\n",
      "Recall: 0.43609022556390975\n",
      "F1 Score: 0.4172661870503597\n",
      "=========================================\n",
      "Epoch 30, Loss validate: 0.6737052798271179\n",
      "Accuracy: 0.6554712892741061\n",
      "Precision: 0.40441176470588236\n",
      "Recall: 0.41353383458646614\n",
      "F1 Score: 0.40892193308550184\n",
      "=========================================\n",
      "Epoch 35, Loss validate: 0.665913462638855\n",
      "Accuracy: 0.6619718309859155\n",
      "Precision: 0.4115384615384615\n",
      "Recall: 0.40225563909774437\n",
      "F1 Score: 0.40684410646387825\n",
      "=========================================\n",
      "Epoch 40, Loss validate: 0.670671284198761\n",
      "Accuracy: 0.6554712892741061\n",
      "Precision: 0.41216216216216217\n",
      "Recall: 0.45864661654135336\n",
      "F1 Score: 0.43416370106761565\n",
      "=========================================\n",
      "Epoch 45, Loss validate: 0.6673159003257751\n",
      "Accuracy: 0.66738894907909\n",
      "Precision: 0.4265232974910394\n",
      "Recall: 0.4473684210526316\n",
      "F1 Score: 0.43669724770642204\n",
      "=========================================\n",
      "Epoch 50, Loss validate: 0.6729092001914978\n",
      "Accuracy: 0.6652221018418202\n",
      "Precision: 0.4188679245283019\n",
      "Recall: 0.41729323308270677\n",
      "F1 Score: 0.41807909604519783\n",
      "=========================================\n",
      "Epoch 55, Loss validate: 0.6947660446166992\n",
      "Accuracy: 0.6554712892741061\n",
      "Precision: 0.4144736842105263\n",
      "Recall: 0.47368421052631576\n",
      "F1 Score: 0.4421052631578947\n",
      "=========================================\n",
      "Epoch 60, Loss validate: 0.6781203746795654\n",
      "Accuracy: 0.5612134344528711\n",
      "Precision: 0.35728952772073924\n",
      "Recall: 0.6541353383458647\n",
      "F1 Score: 0.4621513944223108\n",
      "=========================================\n",
      "Epoch 65, Loss validate: 0.6870059370994568\n",
      "Accuracy: 0.5102925243770314\n",
      "Precision: 0.33152173913043476\n",
      "Recall: 0.6879699248120301\n",
      "F1 Score: 0.4474327628361858\n",
      "=========================================\n",
      "Epoch 70, Loss validate: 0.6874902844429016\n",
      "Accuracy: 0.5276273022751896\n",
      "Precision: 0.33840304182509506\n",
      "Recall: 0.6691729323308271\n",
      "F1 Score: 0.44949494949494945\n",
      "=========================================\n",
      "Epoch 75, Loss validate: 0.6844176054000854\n",
      "Accuracy: 0.5449620801733478\n",
      "Precision: 0.34782608695652173\n",
      "Recall: 0.6616541353383458\n",
      "F1 Score: 0.4559585492227979\n",
      "=========================================\n",
      "Epoch 80, Loss validate: 0.6772149205207825\n",
      "Accuracy: 0.5677139761646804\n",
      "Precision: 0.3656565656565657\n",
      "Recall: 0.6804511278195489\n",
      "F1 Score: 0.4756898817345599\n",
      "=========================================\n",
      "Epoch 85, Loss validate: 0.6839914917945862\n",
      "Accuracy: 0.5644637053087758\n",
      "Precision: 0.360082304526749\n",
      "Recall: 0.6578947368421053\n",
      "F1 Score: 0.46542553191489366\n",
      "=========================================\n",
      "Epoch 90, Loss validate: 0.7016323208808899\n",
      "Accuracy: 0.5330444203683641\n",
      "Precision: 0.3446327683615819\n",
      "Recall: 0.6879699248120301\n",
      "F1 Score: 0.45922208281053944\n",
      "=========================================\n",
      "Epoch 95, Loss validate: 0.6952519416809082\n",
      "Accuracy: 0.5503791982665223\n",
      "Precision: 0.35070140280561124\n",
      "Recall: 0.6578947368421053\n",
      "F1 Score: 0.4575163398692811\n",
      "=========================================\n",
      "Epoch 100, Loss validate: 0.6868590712547302\n",
      "Accuracy: 0.5666305525460456\n",
      "Precision: 0.36099585062240663\n",
      "Recall: 0.6541353383458647\n",
      "F1 Score: 0.46524064171123\n",
      "=========================================\n"
     ]
    },
    {
     "data": {
      "text/plain": [
       "[<matplotlib.lines.Line2D at 0x7c75f5b03e20>]"
      ]
     },
     "execution_count": 209,
     "metadata": {},
     "output_type": "execute_result"
    },
    {
     "data": {
      "image/png": "[encoded data removed]",
      "text/plain": [
       "<Figure size 640x480 with 1 Axes>"
      ]
     },
     "metadata": {},
     "output_type": "display_data"
    }
   ],
   "source": [
    "# Khởi tạo mô hình\n",
    "lstm = LSTMClassifier(input_size, hidden_size, num_layers, num_classes)\n",
    "criterion = nn.CrossEntropyLoss()\n",
    "optimizer = torch.optim.Adam(lstm.parameters(), lr=lr)\n",
    "lstm.to(device)\n",
    "\n",
    "X_train, X_valid, y_train, y_valid = train_test_split(X_input, y_input, test_size=0.2, random_state=42, stratify=y_input)\n",
    "\n",
    "# Xác định số lượng mẫu của mỗi lớp\n",
    "class_0_count = np.sum(y_train == 0)\n",
    "class_1_count = np.sum(y_train == 1)\n",
    "# Tính toán số lượng mẫu cần thêm vào mỗi lớp để làm cho số lượng mẫu của hai lớp bằng nhau\n",
    "sample_diff = abs(class_0_count - class_1_count)\n",
    "samples_to_add = max(class_0_count, class_1_count) - min(class_0_count, class_1_count)\n",
    "\n",
    "# Lấy mẫu ngẫu nhiên từ các mẫu hiện có trong lớp ít mẫu để tạo ra số lượng mẫu cần thiết và thêm vào tập train\n",
    "if class_0_count < class_1_count:\n",
    "    X_train_class_0 = X_train[y_train == 0]\n",
    "    y_train_class_0 = y_train[y_train == 0]\n",
    "    additional_indices = np.random.choice(range(class_0_count), samples_to_add)\n",
    "    X_train_additional = X_train_class_0[additional_indices]\n",
    "    y_train_additional = y_train_class_0[additional_indices]\n",
    "    X_train = np.concatenate((X_train, X_train_additional))\n",
    "    y_train = np.concatenate((y_train, y_train_additional))\n",
    "else:\n",
    "    X_train_class_1 = X_train[y_train == 1]\n",
    "    y_train_class_1 = y_train[y_train == 1]\n",
    "    additional_indices = np.random.choice(range(class_1_count), samples_to_add)\n",
    "    X_train_additional = X_train_class_1[additional_indices]\n",
    "    y_train_additional = y_train_class_1[additional_indices]\n",
    "    X_train = np.concatenate((X_train, X_train_additional))\n",
    "    y_train = np.concatenate((y_train, y_train_additional))\n",
    "\n",
    "# Trộn lại dữ liệu để đảm bảo tính ngẫu nhiên\n",
    "X_train, y_train = shuffle(X_train, y_train, random_state=42)\n",
    "\n",
    "X_train = torch.tensor(X_train, dtype=torch.float32).to(device)\n",
    "X_valid = torch.tensor(X_valid, dtype=torch.float32).to(device)\n",
    "y_train = torch.tensor(y_train).to(device)\n",
    "y_valid = torch.tensor(y_valid).to(device)\n",
    "\n",
    "# Tạo DataLoader cho dữ liệu train và validation\n",
    "train_dataset = TensorDataset(X_train, y_train)\n",
    "train_loader = DataLoader(train_dataset, batch_size=batch_size, shuffle=True)\n",
    "\n",
    "valid_dataset = TensorDataset(X_valid, y_valid)\n",
    "valid_loader = DataLoader(valid_dataset, batch_size=batch_size, shuffle=False)\n",
    "\n",
    "# Vòng lặp huấn luyện\n",
    "losses = []\n",
    "for epoch in range(1, num_epochs + 1):\n",
    "    # Huấn luyện\n",
    "    lstm.train()\n",
    "    for X_batch, y_batch in train_loader:\n",
    "        optimizer.zero_grad()\n",
    "        outputs = lstm(X_batch)\n",
    "        loss = criterion(outputs, y_batch)\n",
    "        losses.append(loss.item())\n",
    "        loss.backward()\n",
    "        optimizer.step()\n",
    "\n",
    "    # In ra loss sau mỗi 5 eclass_0_count = np.sum(predicted_labels == 0)\n",
    "    if epoch % 5 == 0:\n",
    "\n",
    "        # Đánh giá mô hình trên tập validation\n",
    "        lstm.eval()\n",
    "        with torch.no_grad():\n",
    "            # for X_batch, y_batch in valid_loader:\n",
    "            outputs = lstm(X_valid)\n",
    "            loss = criterion(outputs, y_valid)\n",
    "            print(f\"Epoch {epoch}, Loss validate: {loss.item()}\")\n",
    "\n",
    "        _, predicted = torch.max(outputs, 1)\n",
    "        predicted_labels = predicted.cpu().numpy()\n",
    "        true_labels = y_valid.cpu().numpy()\n",
    "        accuracy = accuracy_score(true_labels, predicted_labels)\n",
    "        precision = precision_score(true_labels, predicted_labels)\n",
    "        recall = recall_score(true_labels, predicted_labels)\n",
    "        f1 = f1_score(true_labels, predicted_labels)\n",
    "\n",
    "        print(\"Accuracy:\", accuracy)\n",
    "        print(\"Precision:\", precision)\n",
    "        print(\"Recall:\", recall)\n",
    "        print(\"F1 Score:\", f1)\n",
    "\n",
    "        print(\"=========================================\")\n",
    "plt.plot(losses)"
   ]
  },
  {
   "cell_type": "code",
   "execution_count": 201,
   "metadata": {},
   "outputs": [
    {
     "name": "stdout",
     "output_type": "stream",
     "text": [
      "711 212\n"
     ]
    }
   ],
   "source": [
    "class_0_count = np.sum(predicted_labels == 0)\n",
    "class_1_count = np.sum(predicted_labels == 1)\n",
    "print(class_0_count,class_1_count)"
   ]
  },
  {
   "cell_type": "code",
   "execution_count": 203,
   "metadata": {},
   "outputs": [
    {
     "name": "stdout",
     "output_type": "stream",
     "text": [
      "657 266\n"
     ]
    }
   ],
   "source": [
    "class_0_count = np.sum(true_labels == 0)\n",
    "class_1_count = np.sum(true_labels == 1)\n",
    "print(class_0_count,class_1_count)"
   ]
  }
 ],
 "metadata": {
  "kernelspec": {
   "display_name": "NLP",
   "language": "python",
   "name": "python3"
  },
  "language_info": {
   "codemirror_mode": {
    "name": "ipython",
    "version": 3
   },
   "file_extension": ".py",
   "mimetype": "text/x-python",
   "name": "python",
   "nbconvert_exporter": "python",
   "pygments_lexer": "ipython3",
   "version": "3.9.18"
  }
 },
 "nbformat": 4,
 "nbformat_minor": 2
}
