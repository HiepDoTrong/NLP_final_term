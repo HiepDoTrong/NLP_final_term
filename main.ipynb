{
 "cells": [
  {
   "cell_type": "code",
   "execution_count": 198,
   "metadata": {},
   "outputs": [
    {
     "name": "stderr",
     "output_type": "stream",
     "text": [
      "[nltk_data] Downloading package stopwords to\n",
      "[nltk_data]     /home/dotronghiep/nltk_data...\n",
      "[nltk_data]   Package stopwords is already up-to-date!\n",
      "[nltk_data] Downloading package brown to\n",
      "[nltk_data]     /home/dotronghiep/nltk_data...\n",
      "[nltk_data]   Package brown is already up-to-date!\n",
      "[nltk_data] Downloading package wordnet to\n",
      "[nltk_data]     /home/dotronghiep/nltk_data...\n",
      "[nltk_data]   Package wordnet is already up-to-date!\n"
     ]
    }
   ],
   "source": [
    "import re\n",
    "import csv\n",
    "import nltk\n",
    "from nltk.corpus import wordnet\n",
    "from nltk.corpus import stopwords, brown\n",
    "nltk.download('stopwords')\n",
    "nltk.download('brown')\n",
    "nltk.download('wordnet')\n",
    "from nltk.stem import WordNetLemmatizer\n",
    "from nltk.tokenize import RegexpTokenizer"
   ]
  },
  {
   "cell_type": "code",
   "execution_count": 199,
   "metadata": {},
   "outputs": [],
   "source": [
    "# lấy danh sách stopword\n",
    "stop = set(stopwords.words('english'))\n",
    "brown_words = set(word for word in brown.words() if word.lower() not in stop)|{\"biden\",\n",
    "                                                                               \"ukraine\",\"kiev\",\"kyiv\",\"zelensky\", \"ukrainian\", \"ukrainians\"\n",
    "                                                                               \"putin\",\"kremlin\", \"russia\", \"russian\", \"russians\",\n",
    "                                                                               \"not\", \"no\", \"nor\", \"against\", \"never\", \"nobody\", \"none\", \"nowhere\"}\n",
    "\n",
    "lemmatizer = WordNetLemmatizer()\n",
    "tokenizer = RegexpTokenizer(r'[a-zA-Z]+')"
   ]
  },
  {
   "cell_type": "code",
   "execution_count": 200,
   "metadata": {},
   "outputs": [
    {
     "data": {
      "text/plain": [
       "True"
      ]
     },
     "execution_count": 200,
     "metadata": {},
     "output_type": "execute_result"
    }
   ],
   "source": [
    "'will' in stop"
   ]
  },
  {
   "cell_type": "code",
   "execution_count": 201,
   "metadata": {},
   "outputs": [],
   "source": [
    "text = [\"It says that Ukraine has always been Russia. I thought I made that clear clear clear.\",\"Ukraine will win win win hu!\"]"
   ]
  },
  {
   "cell_type": "code",
   "execution_count": 202,
   "metadata": {},
   "outputs": [
    {
     "data": {
      "text/html": [
       "<div>\n",
       "<style scoped>\n",
       "    .dataframe tbody tr th:only-of-type {\n",
       "        vertical-align: middle;\n",
       "    }\n",
       "\n",
       "    .dataframe tbody tr th {\n",
       "        vertical-align: top;\n",
       "    }\n",
       "\n",
       "    .dataframe thead th {\n",
       "        text-align: right;\n",
       "    }\n",
       "</style>\n",
       "<table border=\"1\" class=\"dataframe\">\n",
       "  <thead>\n",
       "    <tr style=\"text-align: right;\">\n",
       "      <th></th>\n",
       "      <th>0</th>\n",
       "      <th>1</th>\n",
       "      <th>2</th>\n",
       "    </tr>\n",
       "  </thead>\n",
       "  <tbody>\n",
       "    <tr>\n",
       "      <th>0</th>\n",
       "      <td>1</td>\n",
       "      <td>0</td>\n",
       "      <td>impossible to stop basically means russia is n...</td>\n",
       "    </tr>\n",
       "    <tr>\n",
       "      <th>1</th>\n",
       "      <td>2</td>\n",
       "      <td>0</td>\n",
       "      <td>indeed. may russia soil then selves in terror ...</td>\n",
       "    </tr>\n",
       "    <tr>\n",
       "      <th>2</th>\n",
       "      <td>3</td>\n",
       "      <td>0</td>\n",
       "      <td>goodnight family, thanks to everyone for your ...</td>\n",
       "    </tr>\n",
       "    <tr>\n",
       "      <th>3</th>\n",
       "      <td>4</td>\n",
       "      <td>0</td>\n",
       "      <td>keep adding more sanctionsfastest way to get r...</td>\n",
       "    </tr>\n",
       "    <tr>\n",
       "      <th>4</th>\n",
       "      <td>5</td>\n",
       "      <td>0</td>\n",
       "      <td>russia does not get to rape ukraine in order t...</td>\n",
       "    </tr>\n",
       "    <tr>\n",
       "      <th>5</th>\n",
       "      <td>6</td>\n",
       "      <td>1</td>\n",
       "      <td>its already done de facto. east ukraineand cri...</td>\n",
       "    </tr>\n",
       "    <tr>\n",
       "      <th>6</th>\n",
       "      <td>7</td>\n",
       "      <td>1</td>\n",
       "      <td>russia takes most of sievierodonetsk city in e...</td>\n",
       "    </tr>\n",
       "    <tr>\n",
       "      <th>7</th>\n",
       "      <td>8</td>\n",
       "      <td>0</td>\n",
       "      <td>biden says us to send ukraine 'advanced rocket...</td>\n",
       "    </tr>\n",
       "    <tr>\n",
       "      <th>8</th>\n",
       "      <td>9</td>\n",
       "      <td>1</td>\n",
       "      <td>just in - biden us to send ukraine advanced ro...</td>\n",
       "    </tr>\n",
       "    <tr>\n",
       "      <th>9</th>\n",
       "      <td>10</td>\n",
       "      <td>0</td>\n",
       "      <td>why do you suppose i do not understand that. i...</td>\n",
       "    </tr>\n",
       "  </tbody>\n",
       "</table>\n",
       "</div>"
      ],
      "text/plain": [
       "    0  1                                                  2\n",
       "0   1  0  impossible to stop basically means russia is n...\n",
       "1   2  0  indeed. may russia soil then selves in terror ...\n",
       "2   3  0  goodnight family, thanks to everyone for your ...\n",
       "3   4  0  keep adding more sanctionsfastest way to get r...\n",
       "4   5  0  russia does not get to rape ukraine in order t...\n",
       "5   6  1  its already done de facto. east ukraineand cri...\n",
       "6   7  1  russia takes most of sievierodonetsk city in e...\n",
       "7   8  0  biden says us to send ukraine 'advanced rocket...\n",
       "8   9  1  just in - biden us to send ukraine advanced ro...\n",
       "9  10  0  why do you suppose i do not understand that. i..."
      ]
     },
     "execution_count": 202,
     "metadata": {},
     "output_type": "execute_result"
    }
   ],
   "source": [
    "import pandas as pd\n",
    "\n",
    "df = pd.read_csv('/home/dotronghiep/Documents/Datasets/Social_Listening/DataLabel.csv', header=None)\n",
    "df.head(10)"
   ]
  },
  {
   "cell_type": "code",
   "execution_count": 203,
   "metadata": {},
   "outputs": [],
   "source": [
    "X_row = df.iloc[:, 2].values\n",
    "y = df.iloc[:, 1].values"
   ]
  },
  {
   "cell_type": "code",
   "execution_count": 204,
   "metadata": {},
   "outputs": [
    {
     "name": "stdout",
     "output_type": "stream",
     "text": [
      "[\"impossible to stop basically means russia is not winning.stopping before was ukraine losing.\\nif it can not be stopped, that's good because russia should not win.\"\n",
      " 'indeed. may russia soil then selves in terror at the thought of what horrors ukraine will unleash in them next via american weaponry.let them dread our red lines.'\n",
      " 'goodnight family, thanks to everyone for your kind words/ support as always. humanity can be loving and generous but also like russiacan brutal and evil, they remind us of this\\nthank you for supporting ukraine. god protect us all. be safe god bless.\\nglory to ukraine ,'\n",
      " ...\n",
      " 'lets be crystal clear, ukraine is just the beginning, if the west caves to russiathe baltics will be next, then eastern europe. eastern ukraine is the sudetenland all over again it must not happen!'\n",
      " 'imagine if al qaeda was invading another country like russia is doing to ukraine. putin is a damn terrorist. he should be hunted down like they hunt down other terrorists.'\n",
      " 'we are calling out russian plans. not because we want a conflict, but because we are doing everything in our power to remove any reason russia may give to justify invading ukraine.if russia pursues its plans, it will be responsible for a catastrophic and needless war of choice.']\n"
     ]
    }
   ],
   "source": [
    "print(X_row)"
   ]
  },
  {
   "cell_type": "code",
   "execution_count": 205,
   "metadata": {},
   "outputs": [
    {
     "name": "stdout",
     "output_type": "stream",
     "text": [
      "[0 0 0 ... 0 0 0]\n"
     ]
    }
   ],
   "source": [
    "print(y)"
   ]
  },
  {
   "cell_type": "code",
   "execution_count": 206,
   "metadata": {},
   "outputs": [],
   "source": [
    "def remove_stopwords(text):\n",
    "    words = tokenizer.tokenize(text)\n",
    "    cleaned_words = [lemmatizer.lemmatize(word, pos='v') for word in words if word in brown_words]\n",
    "    cleaned_text = ' '.join(cleaned_words)\n",
    "    return cleaned_text\n",
    "\n",
    "\n",
    "# Loại bỏ stop words từ mỗi văn bản trong danh sách X\n",
    "X_cleaned = [remove_stopwords(text) for text in X_row]"
   ]
  },
  {
   "cell_type": "code",
   "execution_count": 207,
   "metadata": {},
   "outputs": [
    {
     "data": {
      "text/plain": [
       "['impossible stop basically mean russia not win stop ukraine lose not stop good russia not win',\n",
       " 'indeed may russia soil selves terror think horrors ukraine unleash next via weaponry let dread red line',\n",
       " 'goodnight family thank everyone kind word support always humanity love generous also like brutal evil remind us thank support ukraine god protect us safe god bless glory ukraine',\n",
       " 'keep add way get russia ukraine',\n",
       " 'russia not get rape ukraine order catch us record bad stuff come far worse would think would learn observation',\n",
       " 'already do de facto east belong russia digest',\n",
       " 'russia take city eastern ukraine',\n",
       " 'biden say us send ukraine advance rocket systems hit key target',\n",
       " 'biden us send ukraine advance rocket systems munition hit key russian target battlefield',\n",
       " 'suppose not understand not support negotiations point want ukraine win sooner rather later want us much helpful want russia lose hopefully learn lesson']"
      ]
     },
     "execution_count": 207,
     "metadata": {},
     "output_type": "execute_result"
    }
   ],
   "source": [
    "X_cleaned[:10]"
   ]
  }
 ],
 "metadata": {
  "kernelspec": {
   "display_name": "NLP",
   "language": "python",
   "name": "python3"
  },
  "language_info": {
   "codemirror_mode": {
    "name": "ipython",
    "version": 3
   },
   "file_extension": ".py",
   "mimetype": "text/x-python",
   "name": "python",
   "nbconvert_exporter": "python",
   "pygments_lexer": "ipython3",
   "version": "3.9.18"
  }
 },
 "nbformat": 4,
 "nbformat_minor": 2
}
