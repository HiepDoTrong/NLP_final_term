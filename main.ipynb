{
 "cells": [
  {
   "cell_type": "code",
   "execution_count": 253,
   "metadata": {},
   "outputs": [
    {
     "name": "stderr",
     "output_type": "stream",
     "text": [
      "[nltk_data] Downloading package stopwords to\n",
      "[nltk_data]     /home/dotronghiep/nltk_data...\n",
      "[nltk_data]   Package stopwords is already up-to-date!\n",
      "[nltk_data] Downloading package brown to\n",
      "[nltk_data]     /home/dotronghiep/nltk_data...\n",
      "[nltk_data]   Package brown is already up-to-date!\n",
      "[nltk_data] Downloading package wordnet to\n",
      "[nltk_data]     /home/dotronghiep/nltk_data...\n",
      "[nltk_data]   Package wordnet is already up-to-date!\n"
     ]
    }
   ],
   "source": [
    "import nltk\n",
    "import numpy as np\n",
    "from sklearn.utils import shuffle\n",
    "from nltk.corpus import stopwords, brown\n",
    "from torch.utils.data import TensorDataset, DataLoader\n",
    "nltk.download('stopwords')\n",
    "nltk.download('brown')\n",
    "nltk.download('wordnet')\n",
    "from nltk.stem import WordNetLemmatizer\n",
    "from nltk.tokenize import RegexpTokenizer\n",
    "from sklearn.metrics import accuracy_score, precision_score, recall_score, f1_score\n",
    "from matplotlib import pyplot as plt\n"
   ]
  },
  {
   "cell_type": "code",
   "execution_count": 254,
   "metadata": {},
   "outputs": [
    {
     "data": {
      "text/html": [
       "<div>\n",
       "<style scoped>\n",
       "    .dataframe tbody tr th:only-of-type {\n",
       "        vertical-align: middle;\n",
       "    }\n",
       "\n",
       "    .dataframe tbody tr th {\n",
       "        vertical-align: top;\n",
       "    }\n",
       "\n",
       "    .dataframe thead th {\n",
       "        text-align: right;\n",
       "    }\n",
       "</style>\n",
       "<table border=\"1\" class=\"dataframe\">\n",
       "  <thead>\n",
       "    <tr style=\"text-align: right;\">\n",
       "      <th></th>\n",
       "      <th>0</th>\n",
       "      <th>1</th>\n",
       "      <th>2</th>\n",
       "    </tr>\n",
       "  </thead>\n",
       "  <tbody>\n",
       "    <tr>\n",
       "      <th>0</th>\n",
       "      <td>1</td>\n",
       "      <td>0</td>\n",
       "      <td>impossible to stop basically means russia is n...</td>\n",
       "    </tr>\n",
       "    <tr>\n",
       "      <th>1</th>\n",
       "      <td>2</td>\n",
       "      <td>0</td>\n",
       "      <td>indeed. may russia soil then selves in terror ...</td>\n",
       "    </tr>\n",
       "    <tr>\n",
       "      <th>2</th>\n",
       "      <td>3</td>\n",
       "      <td>0</td>\n",
       "      <td>goodnight family, thanks to everyone for your ...</td>\n",
       "    </tr>\n",
       "    <tr>\n",
       "      <th>3</th>\n",
       "      <td>4</td>\n",
       "      <td>0</td>\n",
       "      <td>keep adding more sanctionsfastest way to get r...</td>\n",
       "    </tr>\n",
       "    <tr>\n",
       "      <th>4</th>\n",
       "      <td>5</td>\n",
       "      <td>0</td>\n",
       "      <td>russia does not get to rape ukraine in order t...</td>\n",
       "    </tr>\n",
       "    <tr>\n",
       "      <th>5</th>\n",
       "      <td>6</td>\n",
       "      <td>1</td>\n",
       "      <td>its already done de facto. east ukraineand cri...</td>\n",
       "    </tr>\n",
       "    <tr>\n",
       "      <th>6</th>\n",
       "      <td>7</td>\n",
       "      <td>1</td>\n",
       "      <td>russia takes most of sievierodonetsk city in e...</td>\n",
       "    </tr>\n",
       "    <tr>\n",
       "      <th>7</th>\n",
       "      <td>8</td>\n",
       "      <td>0</td>\n",
       "      <td>biden says us to send ukraine 'advanced rocket...</td>\n",
       "    </tr>\n",
       "    <tr>\n",
       "      <th>8</th>\n",
       "      <td>9</td>\n",
       "      <td>1</td>\n",
       "      <td>just in - biden us to send ukraine advanced ro...</td>\n",
       "    </tr>\n",
       "    <tr>\n",
       "      <th>9</th>\n",
       "      <td>10</td>\n",
       "      <td>0</td>\n",
       "      <td>why do you suppose i do not understand that. i...</td>\n",
       "    </tr>\n",
       "  </tbody>\n",
       "</table>\n",
       "</div>"
      ],
      "text/plain": [
       "    0  1                                                  2\n",
       "0   1  0  impossible to stop basically means russia is n...\n",
       "1   2  0  indeed. may russia soil then selves in terror ...\n",
       "2   3  0  goodnight family, thanks to everyone for your ...\n",
       "3   4  0  keep adding more sanctionsfastest way to get r...\n",
       "4   5  0  russia does not get to rape ukraine in order t...\n",
       "5   6  1  its already done de facto. east ukraineand cri...\n",
       "6   7  1  russia takes most of sievierodonetsk city in e...\n",
       "7   8  0  biden says us to send ukraine 'advanced rocket...\n",
       "8   9  1  just in - biden us to send ukraine advanced ro...\n",
       "9  10  0  why do you suppose i do not understand that. i..."
      ]
     },
     "execution_count": 254,
     "metadata": {},
     "output_type": "execute_result"
    }
   ],
   "source": [
    "import pandas as pd\n",
    "\n",
    "df = pd.read_csv('/home/dotronghiep/Documents/Datasets/Social_Listening/DataLabel.csv', header=None)\n",
    "df.head(10)"
   ]
  },
  {
   "cell_type": "code",
   "execution_count": 255,
   "metadata": {},
   "outputs": [],
   "source": [
    "X_row = df.iloc[:, 2].values\n",
    "y = df.iloc[:, 1].values"
   ]
  },
  {
   "cell_type": "code",
   "execution_count": 256,
   "metadata": {},
   "outputs": [
    {
     "name": "stdout",
     "output_type": "stream",
     "text": [
      "4108 1663\n"
     ]
    }
   ],
   "source": [
    "# Xác định số lượng mẫu của mỗi lớp\n",
    "class_0_count = np.sum(y == 0)\n",
    "class_1_count = np.sum(y == 1)\n",
    "print(class_0_count,class_1_count)"
   ]
  },
  {
   "cell_type": "code",
   "execution_count": 257,
   "metadata": {},
   "outputs": [],
   "source": [
    "from sklearn.model_selection import train_test_split\n",
    "\n",
    "X_train, X_test, y_train, y_test = train_test_split(X_row, y, test_size=0.2, random_state=42, stratify=y)"
   ]
  },
  {
   "cell_type": "markdown",
   "metadata": {},
   "source": [
    "# Train the model"
   ]
  },
  {
   "cell_type": "code",
   "execution_count": 258,
   "metadata": {},
   "outputs": [
    {
     "name": "stdout",
     "output_type": "stream",
     "text": [
      "4616\n"
     ]
    }
   ],
   "source": [
    "print(len(X_train))"
   ]
  },
  {
   "cell_type": "code",
   "execution_count": 259,
   "metadata": {},
   "outputs": [
    {
     "name": "stdout",
     "output_type": "stream",
     "text": [
      "4616\n"
     ]
    }
   ],
   "source": [
    "print(len(y_train))"
   ]
  },
  {
   "cell_type": "code",
   "execution_count": 260,
   "metadata": {},
   "outputs": [],
   "source": [
    "# lấy danh sách stopword\n",
    "stop = set(stopwords.words('english'))\n",
    "# stop = ()\n",
    "brown_words = set(word for word in brown.words() if word.lower() not in stop)|{\"biden\",\n",
    "                                                                               \"ukraine\",\"kiev\",\"kyiv\",\"zelensky\", \"ukrainian\", \"ukrainians\",\n",
    "                                                                               \"putin\",\"kremlin\", \"russia\", \"russian\", \"russians\",\n",
    "                                                                               \"not\", \"no\", \"nor\", \"against\", \"never\", \"nobody\", \"none\", \"nowhere\"}\n",
    "\n",
    "lemmatizer = WordNetLemmatizer()\n",
    "tokenizer = RegexpTokenizer(r'[a-zA-Z]+')"
   ]
  },
  {
   "cell_type": "code",
   "execution_count": 261,
   "metadata": {},
   "outputs": [],
   "source": [
    "def lemma(text):\n",
    "    words = tokenizer.tokenize(text)\n",
    "    cleaned_words = [lemmatizer.lemmatize(word, pos='v') for word in words if word in brown_words]\n",
    "    return cleaned_words\n",
    "\n",
    "\n",
    "# Loại bỏ stop words từ mỗi văn bản trong danh sách X\n",
    "X_cleaned = [lemma(text) for text in X_train]\n",
    "X_full = [lemma(text) for text in X_row]"
   ]
  },
  {
   "cell_type": "code",
   "execution_count": 262,
   "metadata": {},
   "outputs": [
    {
     "data": {
      "text/plain": [
       "[['ukraine', 'every', 'right', 'attack', 'russia', 'point'],\n",
       " ['real', 'men', 'defend', 'country', 'people', 'respect'],\n",
       " ['well',\n",
       "  'honest',\n",
       "  'russian',\n",
       "  'visit',\n",
       "  'board',\n",
       "  'quite',\n",
       "  'time',\n",
       "  'russia',\n",
       "  'start',\n",
       "  'military',\n",
       "  'build',\n",
       "  'ukraine',\n",
       "  'border',\n",
       "  'last',\n",
       "  'year',\n",
       "  'call',\n",
       "  'journalist'],\n",
       " ['poor',\n",
       "  'russian',\n",
       "  'regime',\n",
       "  'world',\n",
       "  'say',\n",
       "  'no',\n",
       "  'brutal',\n",
       "  'invasion',\n",
       "  'play',\n",
       "  'victim',\n",
       "  'get',\n",
       "  'ukraine'],\n",
       " ['definitely', 'arm', 'ukraine', 'teeth', 'keep', 'russia'],\n",
       " ['legitimate',\n",
       "  'security',\n",
       "  'concern',\n",
       "  'already',\n",
       "  'countries',\n",
       "  'members',\n",
       "  'military',\n",
       "  'base',\n",
       "  'nuclear',\n",
       "  'capability',\n",
       "  'wipe',\n",
       "  'russia',\n",
       "  'map',\n",
       "  'ukraine',\n",
       "  'make',\n",
       "  'zero',\n",
       "  'difference',\n",
       "  'putin',\n",
       "  'know',\n",
       "  'join',\n",
       "  'could',\n",
       "  'not',\n",
       "  'invade',\n",
       "  'point'],\n",
       " ['ukraine',\n",
       "  'shut',\n",
       "  'listen',\n",
       "  'russia',\n",
       "  'like',\n",
       "  'shut',\n",
       "  'listen',\n",
       "  'us',\n",
       "  'argue',\n",
       "  'otherwise',\n",
       "  'accept',\n",
       "  'kind',\n",
       "  'absurd',\n",
       "  'prevalent',\n",
       "  'among',\n",
       "  'riddle',\n",
       "  'cat',\n",
       "  'ladies'],\n",
       " ['question',\n",
       "  'whole',\n",
       "  'population',\n",
       "  'suffer',\n",
       "  'action',\n",
       "  'russia',\n",
       "  'enable',\n",
       "  'formation',\n",
       "  'many',\n",
       "  'people',\n",
       "  'die',\n",
       "  'putin',\n",
       "  'meddle',\n",
       "  'ukraine',\n",
       "  'find',\n",
       "  'plenty',\n",
       "  'evidence',\n",
       "  'russian',\n",
       "  'military',\n",
       "  'know'],\n",
       " ['think',\n",
       "  'exactly',\n",
       "  'way',\n",
       "  'world',\n",
       "  'need',\n",
       "  'give',\n",
       "  'way',\n",
       "  'otherwise',\n",
       "  'nothing',\n",
       "  'loose',\n",
       "  'lot',\n",
       "  'damage',\n",
       "  'use',\n",
       "  'nuclear',\n",
       "  'power',\n",
       "  'hope',\n",
       "  'ukraine',\n",
       "  'military',\n",
       "  'ahead',\n",
       "  'way',\n",
       "  'deal',\n",
       "  'nuclear',\n",
       "  'threats'],\n",
       " ['russian', 'troop', 'ukraine', 'war', 'condemn']]"
      ]
     },
     "execution_count": 262,
     "metadata": {},
     "output_type": "execute_result"
    }
   ],
   "source": [
    "X_cleaned[:10]"
   ]
  },
  {
   "cell_type": "code",
   "execution_count": 263,
   "metadata": {},
   "outputs": [],
   "source": [
    "import torch\n",
    "import gensim.downloader as api\n",
    "from gensim.models.word2vec import Word2Vec"
   ]
  },
  {
   "cell_type": "code",
   "execution_count": 264,
   "metadata": {},
   "outputs": [
    {
     "name": "stdout",
     "output_type": "stream",
     "text": [
      "Using cuda device\n"
     ]
    }
   ],
   "source": [
    "device = \"cuda\" if torch.cuda.is_available() else \"cpu\"\n",
    "print(f\"Using {device} device\")"
   ]
  },
  {
   "cell_type": "code",
   "execution_count": 265,
   "metadata": {},
   "outputs": [
    {
     "data": {
      "text/plain": [
       "36"
      ]
     },
     "execution_count": 265,
     "metadata": {},
     "output_type": "execute_result"
    }
   ],
   "source": [
    "max_length = max(len(sentence) for sentence in X_cleaned)\n",
    "max_length"
   ]
  },
  {
   "cell_type": "code",
   "execution_count": 266,
   "metadata": {},
   "outputs": [
    {
     "name": "stdout",
     "output_type": "stream",
     "text": [
      "Vocabulary size: 2000\n"
     ]
    }
   ],
   "source": [
    "model = Word2Vec(X_full, \n",
    "                 vector_size=100, \n",
    "                 window=9, \n",
    "                 min_count=5, \n",
    "                 workers=8, \n",
    "                 epochs=50)\n",
    "vocabulary = model.wv.index_to_key\n",
    "print(f\"Vocabulary size: {len(vocabulary)}\")"
   ]
  },
  {
   "cell_type": "code",
   "execution_count": 267,
   "metadata": {},
   "outputs": [
    {
     "name": "stdout",
     "output_type": "stream",
     "text": [
      "madness: 0.4468\n",
      "dictator: 0.4134\n",
      "tire: 0.3820\n",
      "damn: 0.3767\n",
      "lion: 0.3699\n",
      "everyone: 0.3677\n",
      "aggressor: 0.3633\n",
      "dictatorship: 0.3598\n",
      "prison: 0.3513\n",
      "murderous: 0.3484\n"
     ]
    }
   ],
   "source": [
    "# Tìm từ gần nhất \n",
    "similar_words = model.wv.most_similar(\"putin\")\n",
    "for word, score in similar_words:\n",
    "    print(f\"{word}: {score:.4f}\")"
   ]
  },
  {
   "cell_type": "code",
   "execution_count": 268,
   "metadata": {},
   "outputs": [
    {
     "name": "stdout",
     "output_type": "stream",
     "text": [
      "(4437, 36, 100)\n",
      "(4437,)\n"
     ]
    }
   ],
   "source": [
    "import numpy as np\n",
    "import torch\n",
    "from torch.nn.utils.rnn import pad_sequence\n",
    "\n",
    "def vectorize(X, y, model=model):\n",
    "    X_vectors = []\n",
    "    y_vectors = []\n",
    "    # Chuyển từng từ trong mỗi câu thành vector biểu diễn và thêm padding\n",
    "    for sentence, label in zip(X, y):\n",
    "        if len(sentence) < 5:\n",
    "            continue\n",
    "\n",
    "        sentence_vectors = []\n",
    "        for i, word in enumerate(sentence):\n",
    "            # Kiểm tra xem từ đó có trong từ vựng của mô hình Word2Vec hay không\n",
    "            if i > 35:\n",
    "                break\n",
    "            if word in model.wv:\n",
    "                word_vector = model.wv[word]\n",
    "                sentence_vectors.append(word_vector)\n",
    "            else:\n",
    "                pass\n",
    "\n",
    "        # Thêm padding cho câu để độ dài của mỗi câu là 35\n",
    "        while len(sentence_vectors) <= 35:\n",
    "            sentence_vectors.append(np.zeros((100,)))  # Sử dụng vector zeros cho padding\n",
    "\n",
    "        # Chuyển danh sách các vector thành một tensor\n",
    "        sentence_tensor = torch.tensor(sentence_vectors)\n",
    "        # Thêm câu đã được padding vào danh sách X_vectors\n",
    "        X_vectors.append(sentence_tensor)\n",
    "        y_vectors.append(label)\n",
    "\n",
    "\n",
    "    # Chuyển danh sách X_vectors thành một tensor\n",
    "    X_padded = np.array(X_vectors)\n",
    "    y_padded = np.array(y_vectors)\n",
    "    return X_padded, y_padded\n",
    "# In ra kích thước của X_padded\n",
    "X_input, y_input = vectorize(X_cleaned, y_train)\n",
    "print(X_input.shape)\n",
    "print(y_input.shape)\n"
   ]
  },
  {
   "cell_type": "code",
   "execution_count": 293,
   "metadata": {},
   "outputs": [],
   "source": [
    "import torch\n",
    "import torch.nn as nn\n",
    "\n",
    "class LSTMClassifier(nn.Module):\n",
    "    def __init__(self, input_size, hidden_size, num_layers, num_classes):\n",
    "        super(LSTMClassifier, self).__init__()\n",
    "        self.hidden_size = hidden_size\n",
    "        self.num_layers = num_layers\n",
    "        self.lstm = nn.LSTM(input_size, hidden_size, num_layers, batch_first=True)\n",
    "        self.fc1 = nn.Linear(hidden_size, 1)\n",
    "        self.fc2 = nn.Linear(8, 1)\n",
    "        self.relu = nn.ReLU()\n",
    "        self.dropout = nn.Dropout(0.3)\n",
    "    \n",
    "    def forward(self, x):\n",
    "        # Khởi tạo hidden state và cell state\n",
    "        h0 = torch.zeros(self.num_layers, x.size(0), self.hidden_size).to(x.device)\n",
    "        c0 = torch.zeros(self.num_layers, x.size(0), self.hidden_size).to(x.device)\n",
    "        \n",
    "        # Đưa đầu vào qua LSTM\n",
    "        out, _ = self.lstm(x, (h0, c0))\n",
    "        \n",
    "        # Lấy output của lớp cuối cùng\n",
    "        out = self.dropout(out)\n",
    "        out = self.fc1(out[:, -1, :])\n",
    "        # out = self.dropout(out)\n",
    "        # out = self.relu(out)\n",
    "        # out = self.fc2(out)\n",
    "        return out.squeeze(1)\n",
    "\n",
    "# Định nghĩa các siêu tham số\n",
    "input_size = 100  # Kích thước của vectơ biểu diễn từ\n",
    "hidden_size = 16  # Kích thước của hidden state trong LSTM\n",
    "num_layers = 1  # Số lớp LSTM xếp chồng lên nhau\n",
    "num_classes = 2  # Số lớp đầu ra\n",
    "num_epochs = 200  # Số epoch\n",
    "lr = 0.005\n",
    "batch_size = 128"
   ]
  },
  {
   "cell_type": "code",
   "execution_count": 294,
   "metadata": {},
   "outputs": [],
   "source": [
    "def train_lstm(X_input, y_input, num_epochs=num_epochs):    \n",
    "    # Khởi tạo mô hình\n",
    "    lstm = LSTMClassifier(input_size, hidden_size, num_layers, num_classes)\n",
    "    criterion = nn.BCEWithLogitsLoss()\n",
    "    optimizer = torch.optim.Adam(lstm.parameters(), lr=lr)\n",
    "    lstm.to(device)\n",
    "\n",
    "    X_train, X_valid, y_train, y_valid = train_test_split(X_input, y_input, test_size=0.2, stratify=y_input)\n",
    "\n",
    "    # Xác định số lượng mẫu của mỗi lớp\n",
    "    class_0_count = np.sum(y_train == 0)\n",
    "    class_1_count = np.sum(y_train == 1)\n",
    "    # Tính toán số lượng mẫu cần thêm vào mỗi lớp để làm cho số lượng mẫu của hai lớp bằng nhau\n",
    "    samples_to_add = max(class_0_count, class_1_count) - min(class_0_count, class_1_count)\n",
    "\n",
    "    # Lấy mẫu ngẫu nhiên từ các mẫu hiện có trong lớp ít mẫu để tạo ra số lượng mẫu cần thiết và thêm vào tập train\n",
    "    if class_0_count < class_1_count:\n",
    "        X_train_class_0 = X_train[y_train == 0]\n",
    "        y_train_class_0 = y_train[y_train == 0]\n",
    "        additional_indices = np.random.choice(range(class_0_count), samples_to_add)\n",
    "        X_train_additional = X_train_class_0[additional_indices]\n",
    "        y_train_additional = y_train_class_0[additional_indices]\n",
    "        X_train = np.concatenate((X_train, X_train_additional))\n",
    "        y_train = np.concatenate((y_train, y_train_additional))\n",
    "    else:\n",
    "        X_train_class_1 = X_train[y_train == 1]\n",
    "        y_train_class_1 = y_train[y_train == 1]\n",
    "        additional_indices = np.random.choice(range(class_1_count), samples_to_add)\n",
    "        X_train_additional = X_train_class_1[additional_indices]\n",
    "        y_train_additional = y_train_class_1[additional_indices]\n",
    "        X_train = np.concatenate((X_train, X_train_additional))\n",
    "        y_train = np.concatenate((y_train, y_train_additional))\n",
    "\n",
    "    # Trộn lại dữ liệu để đảm bảo tính ngẫu nhiên\n",
    "    X_train, y_train = shuffle(X_train, y_train, random_state=42)\n",
    "\n",
    "    X_train = torch.tensor(X_train, dtype=torch.float32).to(device)\n",
    "    X_valid = torch.tensor(X_valid, dtype=torch.float32).to(device)\n",
    "    y_train = torch.tensor(y_train).to(device)\n",
    "    y_valid = torch.tensor(y_valid).to(device)\n",
    "\n",
    "    # Tạo DataLoader cho dữ liệu train và validation\n",
    "    train_dataset = TensorDataset(X_train, y_train)\n",
    "\n",
    "    valid_dataset = TensorDataset(X_valid, y_valid)\n",
    "    valid_loader = DataLoader(valid_dataset, batch_size=batch_size, shuffle=False)\n",
    "\n",
    "    # Vòng lặp huấn luyện\n",
    "    losses_train = []\n",
    "    losses_valid = []\n",
    "    accuracies = []\n",
    "    for epoch in range(1, num_epochs + 1):\n",
    "        train_loader = DataLoader(train_dataset, batch_size=batch_size, shuffle=True)\n",
    "\n",
    "        # Huấn luyện\n",
    "        lstm.train()\n",
    "        for X_batch, y_batch in train_loader:\n",
    "            optimizer.zero_grad()\n",
    "            outputs = lstm(X_batch)\n",
    "            loss = criterion(outputs, y_batch.float())\n",
    "            loss.backward()\n",
    "            optimizer.step()\n",
    "\n",
    "        # In ra loss sau mỗi 5 eclass_0_count = np.sum(predicted_labels == 0)\n",
    "        if epoch % 10 == 0:\n",
    "\n",
    "            # Đánh giá mô hình trên tập validation\n",
    "            lstm.eval()\n",
    "            with torch.no_grad():\n",
    "                # for X_batch, y_batch in valid_loader:\n",
    "                outputs_train = lstm(X_train)\n",
    "                loss_train = criterion(outputs_train, y_train.float())\n",
    "                losses_train.append(loss_train.item())\n",
    "                print(f\"Epoch {epoch}, Loss train: {loss_train.item()}\")\n",
    "\n",
    "                outputs_valid = lstm(X_valid)\n",
    "                loss_valid = criterion(outputs_valid, y_valid.float())\n",
    "                losses_valid.append(loss_valid.item())\n",
    "                print(f\"Epoch {epoch}, Loss validate: {loss_valid.item()}\")\n",
    "\n",
    "            # _, predicted = torch.max(outputs_valid, 1)\n",
    "            predicted = torch.round(torch.sigmoid(outputs_valid))\n",
    "            predicted_labels = predicted.cpu().numpy()\n",
    "            true_labels = y_valid.cpu().numpy()\n",
    "            accuracy = accuracy_score(true_labels, predicted_labels)\n",
    "            accuracies.append(accuracy)\n",
    "            precision = precision_score(true_labels, predicted_labels)\n",
    "            recall = recall_score(true_labels, predicted_labels)\n",
    "            f1 = f1_score(true_labels, predicted_labels)\n",
    "\n",
    "            print(\"Accuracy:\", accuracy)\n",
    "            print(\"Precision:\", precision)\n",
    "            print(\"Recall:\", recall)\n",
    "            print(\"F1 Score:\", f1)\n",
    "\n",
    "            print(\"=========================================\")\n",
    "    return lstm, losses_train, losses_valid, accuracies"
   ]
  },
  {
   "cell_type": "code",
   "execution_count": 295,
   "metadata": {},
   "outputs": [
    {
     "name": "stdout",
     "output_type": "stream",
     "text": [
      "Epoch 10, Loss train: 0.6931641101837158\n",
      "Epoch 10, Loss validate: 0.6962860822677612\n",
      "Accuracy: 0.2905405405405405\n",
      "Precision: 0.2905405405405405\n",
      "Recall: 1.0\n",
      "F1 Score: 0.450261780104712\n",
      "=========================================\n",
      "Epoch 20, Loss train: 0.6931477189064026\n",
      "Epoch 20, Loss validate: 0.6947035193443298\n",
      "Accuracy: 0.2905405405405405\n",
      "Precision: 0.2905405405405405\n",
      "Recall: 1.0\n",
      "F1 Score: 0.450261780104712\n",
      "=========================================\n",
      "Epoch 30, Loss train: 0.6931027173995972\n",
      "Epoch 30, Loss validate: 0.6937397718429565\n",
      "Accuracy: 0.2905405405405405\n",
      "Precision: 0.2905405405405405\n",
      "Recall: 1.0\n",
      "F1 Score: 0.450261780104712\n",
      "=========================================\n",
      "Epoch 40, Loss train: 0.6931390166282654\n",
      "Epoch 40, Loss validate: 0.6946070790290833\n",
      "Accuracy: 0.2905405405405405\n",
      "Precision: 0.2905405405405405\n",
      "Recall: 1.0\n",
      "F1 Score: 0.450261780104712\n",
      "=========================================\n",
      "Epoch 50, Loss train: 0.6926734447479248\n",
      "Epoch 50, Loss validate: 0.6951506733894348\n",
      "Accuracy: 0.2905405405405405\n",
      "Precision: 0.2905405405405405\n",
      "Recall: 1.0\n",
      "F1 Score: 0.450261780104712\n",
      "=========================================\n",
      "Epoch 60, Loss train: 0.560926079750061\n",
      "Epoch 60, Loss validate: 0.6858197450637817\n",
      "Accuracy: 0.6790540540540541\n",
      "Precision: 0.43005181347150256\n",
      "Recall: 0.32170542635658916\n",
      "F1 Score: 0.36807095343680707\n",
      "=========================================\n",
      "Epoch 70, Loss train: 0.5271709561347961\n",
      "Epoch 70, Loss validate: 0.7185245752334595\n",
      "Accuracy: 0.6655405405405406\n",
      "Precision: 0.39896373056994816\n",
      "Recall: 0.29844961240310075\n",
      "F1 Score: 0.3414634146341463\n",
      "=========================================\n",
      "Epoch 80, Loss train: 0.49095696210861206\n",
      "Epoch 80, Loss validate: 0.7320461273193359\n",
      "Accuracy: 0.6813063063063063\n",
      "Precision: 0.4301675977653631\n",
      "Recall: 0.29844961240310075\n",
      "F1 Score: 0.35240274599542337\n",
      "=========================================\n",
      "Epoch 90, Loss train: 0.46328088641166687\n",
      "Epoch 90, Loss validate: 0.7777994275093079\n",
      "Accuracy: 0.6801801801801802\n",
      "Precision: 0.42777777777777776\n",
      "Recall: 0.29844961240310075\n",
      "F1 Score: 0.35159817351598177\n",
      "=========================================\n",
      "Epoch 100, Loss train: 0.47294941544532776\n",
      "Epoch 100, Loss validate: 0.7949296832084656\n",
      "Accuracy: 0.6779279279279279\n",
      "Precision: 0.4263157894736842\n",
      "Recall: 0.313953488372093\n",
      "F1 Score: 0.36160714285714285\n",
      "=========================================\n",
      "Epoch 110, Loss train: 0.46733325719833374\n",
      "Epoch 110, Loss validate: 0.7923915386199951\n",
      "Accuracy: 0.6824324324324325\n",
      "Precision: 0.425\n",
      "Recall: 0.26356589147286824\n",
      "F1 Score: 0.3253588516746411\n",
      "=========================================\n",
      "Epoch 120, Loss train: 0.45311471819877625\n",
      "Epoch 120, Loss validate: 0.824248194694519\n",
      "Accuracy: 0.6779279279279279\n",
      "Precision: 0.4166666666666667\n",
      "Recall: 0.2713178294573643\n",
      "F1 Score: 0.32863849765258213\n",
      "=========================================\n",
      "Epoch 130, Loss train: 0.44837307929992676\n",
      "Epoch 130, Loss validate: 0.8529072403907776\n",
      "Accuracy: 0.6756756756756757\n",
      "Precision: 0.41379310344827586\n",
      "Recall: 0.27906976744186046\n",
      "F1 Score: 0.3333333333333333\n",
      "=========================================\n",
      "Epoch 140, Loss train: 0.4503716826438904\n",
      "Epoch 140, Loss validate: 0.8151381611824036\n",
      "Accuracy: 0.6756756756756757\n",
      "Precision: 0.4147727272727273\n",
      "Recall: 0.28294573643410853\n",
      "F1 Score: 0.33640552995391704\n",
      "=========================================\n",
      "Epoch 150, Loss train: 0.4411439895629883\n",
      "Epoch 150, Loss validate: 0.8850558400154114\n",
      "Accuracy: 0.6565315315315315\n",
      "Precision: 0.37158469945355194\n",
      "Recall: 0.26356589147286824\n",
      "F1 Score: 0.308390022675737\n",
      "=========================================\n",
      "Epoch 160, Loss train: 0.4469841718673706\n",
      "Epoch 160, Loss validate: 0.7965339422225952\n",
      "Accuracy: 0.6824324324324325\n",
      "Precision: 0.4117647058823529\n",
      "Recall: 0.21705426356589147\n",
      "F1 Score: 0.2842639593908629\n",
      "=========================================\n",
      "Epoch 170, Loss train: 0.46045413613319397\n",
      "Epoch 170, Loss validate: 0.9050418138504028\n",
      "Accuracy: 0.670045045045045\n",
      "Precision: 0.39766081871345027\n",
      "Recall: 0.26356589147286824\n",
      "F1 Score: 0.317016317016317\n",
      "=========================================\n",
      "Epoch 180, Loss train: 0.43668797612190247\n",
      "Epoch 180, Loss validate: 0.8888083100318909\n",
      "Accuracy: 0.6880630630630631\n",
      "Precision: 0.4409937888198758\n",
      "Recall: 0.2751937984496124\n",
      "F1 Score: 0.33890214797136037\n",
      "=========================================\n",
      "Epoch 190, Loss train: 0.42832690477371216\n",
      "Epoch 190, Loss validate: 0.844108521938324\n",
      "Accuracy: 0.6925675675675675\n",
      "Precision: 0.45222929936305734\n",
      "Recall: 0.2751937984496124\n",
      "F1 Score: 0.3421686746987952\n",
      "=========================================\n",
      "Epoch 200, Loss train: 0.43745115399360657\n",
      "Epoch 200, Loss validate: 0.8293795585632324\n",
      "Accuracy: 0.6959459459459459\n",
      "Precision: 0.45588235294117646\n",
      "Recall: 0.24031007751937986\n",
      "F1 Score: 0.3147208121827411\n",
      "=========================================\n"
     ]
    }
   ],
   "source": [
    "lstm, losses_train, losses_valid, accuracies = train_lstm(X_input, y_input)"
   ]
  },
  {
   "cell_type": "code",
   "execution_count": 296,
   "metadata": {},
   "outputs": [
    {
     "data": {
      "image/png": "[encoded data removed]",
      "text/plain": [
       "<Figure size 640x480 with 1 Axes>"
      ]
     },
     "metadata": {},
     "output_type": "display_data"
    }
   ],
   "source": [
    "plt.plot(losses_train, label='Train Loss')\n",
    "plt.plot(losses_valid, label='Validation Loss')\n",
    "plt.xlabel('Epoch')\n",
    "plt.ylabel('Loss')\n",
    "plt.title('Training and Validation Loss')\n",
    "plt.legend()\n",
    "plt.show()\n"
   ]
  },
  {
   "cell_type": "markdown",
   "metadata": {},
   "source": [
    "# Test"
   ]
  },
  {
   "cell_type": "code",
   "execution_count": 297,
   "metadata": {},
   "outputs": [
    {
     "name": "stdout",
     "output_type": "stream",
     "text": [
      "31\n"
     ]
    }
   ],
   "source": [
    "X_test_cleaned = [lemma(text) for text in X_test]\n",
    "test_max_length = max(len(sentence) for sentence in X_test_cleaned)\n",
    "print(test_max_length)"
   ]
  },
  {
   "cell_type": "code",
   "execution_count": 298,
   "metadata": {},
   "outputs": [
    {
     "name": "stdout",
     "output_type": "stream",
     "text": [
      "(1104, 36, 100)\n",
      "(1104,)\n"
     ]
    }
   ],
   "source": [
    "X_test_vector, y_test_vector = vectorize(X_test_cleaned, y_test)\n",
    "print(X_test_vector.shape)\n",
    "print(y_test_vector.shape)"
   ]
  },
  {
   "cell_type": "code",
   "execution_count": 299,
   "metadata": {},
   "outputs": [
    {
     "name": "stdout",
     "output_type": "stream",
     "text": [
      "Accuracy: 0.677536231884058\n",
      "Precision: 0.3793103448275862\n",
      "Recall: 0.17133956386292834\n",
      "F1 Score: 0.23605150214592271\n"
     ]
    }
   ],
   "source": [
    "outputs_test = lstm(torch.tensor(X_test_vector, dtype=torch.float32).to(device))\n",
    "\n",
    "predicted_label = torch.round(torch.sigmoid(outputs_test))\n",
    "predicted_labels = predicted_label.cpu().detach().numpy()\n",
    "true_labels = y_test_vector\n",
    "accuracy = accuracy_score(true_labels, predicted_labels)\n",
    "accuracies.append(accuracy)\n",
    "precision = precision_score(true_labels, predicted_labels)\n",
    "recall = recall_score(true_labels, predicted_labels)\n",
    "f1 = f1_score(true_labels, predicted_labels)\n",
    "\n",
    "print(\"Accuracy:\", accuracy)\n",
    "print(\"Precision:\", precision)\n",
    "print(\"Recall:\", recall)\n",
    "print(\"F1 Score:\", f1)\n"
   ]
  },
  {
   "cell_type": "code",
   "execution_count": 300,
   "metadata": {},
   "outputs": [
    {
     "name": "stdout",
     "output_type": "stream",
     "text": [
      "Class 0: 959\n",
      "Class 1: 145\n"
     ]
    }
   ],
   "source": [
    "# Convert the predicted labels to a numpy array\n",
    "predicted_labels = np.array(predicted_labels, dtype=int)\n",
    "\n",
    "# Count the number of occurrences of each class\n",
    "class_counts = np.bincount(predicted_labels)\n",
    "\n",
    "# Print the class counts\n",
    "for class_label, count in enumerate(class_counts):\n",
    "    print(f\"Class {class_label}: {count}\")\n"
   ]
  }
 ],
 "metadata": {
  "kernelspec": {
   "display_name": "NLP",
   "language": "python",
   "name": "python3"
  },
  "language_info": {
   "codemirror_mode": {
    "name": "ipython",
    "version": 3
   },
   "file_extension": ".py",
   "mimetype": "text/x-python",
   "name": "python",
   "nbconvert_exporter": "python",
   "pygments_lexer": "ipython3",
   "version": "3.9.18"
  }
 },
 "nbformat": 4,
 "nbformat_minor": 2
}
