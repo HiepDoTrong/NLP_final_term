{
 "cells": [
  {
   "cell_type": "code",
   "execution_count": 220,
   "metadata": {},
   "outputs": [
    {
     "name": "stderr",
     "output_type": "stream",
     "text": [
      "[nltk_data] Downloading package stopwords to\n",
      "[nltk_data]     /home/dotronghiep/nltk_data...\n",
      "[nltk_data]   Package stopwords is already up-to-date!\n",
      "[nltk_data] Downloading package brown to\n",
      "[nltk_data]     /home/dotronghiep/nltk_data...\n",
      "[nltk_data]   Package brown is already up-to-date!\n",
      "[nltk_data] Downloading package wordnet to\n",
      "[nltk_data]     /home/dotronghiep/nltk_data...\n",
      "[nltk_data]   Package wordnet is already up-to-date!\n"
     ]
    }
   ],
   "source": [
    "import nltk\n",
    "import numpy as np\n",
    "from sklearn.utils import shuffle\n",
    "from nltk.corpus import stopwords, brown\n",
    "from torch.utils.data import TensorDataset, DataLoader\n",
    "nltk.download('stopwords')\n",
    "nltk.download('brown')\n",
    "nltk.download('wordnet')\n",
    "from nltk.stem import WordNetLemmatizer\n",
    "from nltk.tokenize import RegexpTokenizer\n",
    "from sklearn.metrics import accuracy_score, precision_score, recall_score, f1_score\n",
    "from matplotlib import pyplot as plt\n"
   ]
  },
  {
   "cell_type": "code",
   "execution_count": 221,
   "metadata": {},
   "outputs": [
    {
     "data": {
      "text/html": [
       "<div>\n",
       "<style scoped>\n",
       "    .dataframe tbody tr th:only-of-type {\n",
       "        vertical-align: middle;\n",
       "    }\n",
       "\n",
       "    .dataframe tbody tr th {\n",
       "        vertical-align: top;\n",
       "    }\n",
       "\n",
       "    .dataframe thead th {\n",
       "        text-align: right;\n",
       "    }\n",
       "</style>\n",
       "<table border=\"1\" class=\"dataframe\">\n",
       "  <thead>\n",
       "    <tr style=\"text-align: right;\">\n",
       "      <th></th>\n",
       "      <th>0</th>\n",
       "      <th>1</th>\n",
       "      <th>2</th>\n",
       "    </tr>\n",
       "  </thead>\n",
       "  <tbody>\n",
       "    <tr>\n",
       "      <th>0</th>\n",
       "      <td>1</td>\n",
       "      <td>0</td>\n",
       "      <td>impossible to stop basically means russia is n...</td>\n",
       "    </tr>\n",
       "    <tr>\n",
       "      <th>1</th>\n",
       "      <td>2</td>\n",
       "      <td>0</td>\n",
       "      <td>indeed. may russia soil then selves in terror ...</td>\n",
       "    </tr>\n",
       "    <tr>\n",
       "      <th>2</th>\n",
       "      <td>3</td>\n",
       "      <td>0</td>\n",
       "      <td>goodnight family, thanks to everyone for your ...</td>\n",
       "    </tr>\n",
       "    <tr>\n",
       "      <th>3</th>\n",
       "      <td>4</td>\n",
       "      <td>0</td>\n",
       "      <td>keep adding more sanctionsfastest way to get r...</td>\n",
       "    </tr>\n",
       "    <tr>\n",
       "      <th>4</th>\n",
       "      <td>5</td>\n",
       "      <td>0</td>\n",
       "      <td>russia does not get to rape ukraine in order t...</td>\n",
       "    </tr>\n",
       "    <tr>\n",
       "      <th>5</th>\n",
       "      <td>6</td>\n",
       "      <td>1</td>\n",
       "      <td>its already done de facto. east ukraineand cri...</td>\n",
       "    </tr>\n",
       "    <tr>\n",
       "      <th>6</th>\n",
       "      <td>7</td>\n",
       "      <td>1</td>\n",
       "      <td>russia takes most of sievierodonetsk city in e...</td>\n",
       "    </tr>\n",
       "    <tr>\n",
       "      <th>7</th>\n",
       "      <td>8</td>\n",
       "      <td>0</td>\n",
       "      <td>biden says us to send ukraine 'advanced rocket...</td>\n",
       "    </tr>\n",
       "    <tr>\n",
       "      <th>8</th>\n",
       "      <td>9</td>\n",
       "      <td>1</td>\n",
       "      <td>just in - biden us to send ukraine advanced ro...</td>\n",
       "    </tr>\n",
       "    <tr>\n",
       "      <th>9</th>\n",
       "      <td>10</td>\n",
       "      <td>0</td>\n",
       "      <td>why do you suppose i do not understand that. i...</td>\n",
       "    </tr>\n",
       "  </tbody>\n",
       "</table>\n",
       "</div>"
      ],
      "text/plain": [
       "    0  1                                                  2\n",
       "0   1  0  impossible to stop basically means russia is n...\n",
       "1   2  0  indeed. may russia soil then selves in terror ...\n",
       "2   3  0  goodnight family, thanks to everyone for your ...\n",
       "3   4  0  keep adding more sanctionsfastest way to get r...\n",
       "4   5  0  russia does not get to rape ukraine in order t...\n",
       "5   6  1  its already done de facto. east ukraineand cri...\n",
       "6   7  1  russia takes most of sievierodonetsk city in e...\n",
       "7   8  0  biden says us to send ukraine 'advanced rocket...\n",
       "8   9  1  just in - biden us to send ukraine advanced ro...\n",
       "9  10  0  why do you suppose i do not understand that. i..."
      ]
     },
     "execution_count": 221,
     "metadata": {},
     "output_type": "execute_result"
    }
   ],
   "source": [
    "import pandas as pd\n",
    "\n",
    "df = pd.read_csv('/home/dotronghiep/Documents/Datasets/Social_Listening/DataLabel.csv', header=None)\n",
    "df.head(10)"
   ]
  },
  {
   "cell_type": "code",
   "execution_count": 222,
   "metadata": {},
   "outputs": [],
   "source": [
    "X_row = df.iloc[:, 2].values\n",
    "y = df.iloc[:, 1].values"
   ]
  },
  {
   "cell_type": "code",
   "execution_count": 223,
   "metadata": {},
   "outputs": [
    {
     "name": "stdout",
     "output_type": "stream",
     "text": [
      "4108 1663\n"
     ]
    }
   ],
   "source": [
    "# Xác định số lượng mẫu của mỗi lớp\n",
    "class_0_count = np.sum(y == 0)\n",
    "class_1_count = np.sum(y == 1)\n",
    "print(class_0_count,class_1_count)"
   ]
  },
  {
   "cell_type": "code",
   "execution_count": 224,
   "metadata": {},
   "outputs": [],
   "source": [
    "from sklearn.model_selection import train_test_split\n",
    "\n",
    "X_train, X_test, y_train, y_test = train_test_split(X_row, y, test_size=0.2, random_state=42, stratify=y)"
   ]
  },
  {
   "cell_type": "markdown",
   "metadata": {},
   "source": [
    "# Train the model"
   ]
  },
  {
   "cell_type": "code",
   "execution_count": 225,
   "metadata": {},
   "outputs": [
    {
     "name": "stdout",
     "output_type": "stream",
     "text": [
      "4616\n"
     ]
    }
   ],
   "source": [
    "print(len(X_train))"
   ]
  },
  {
   "cell_type": "code",
   "execution_count": 226,
   "metadata": {},
   "outputs": [
    {
     "name": "stdout",
     "output_type": "stream",
     "text": [
      "4616\n"
     ]
    }
   ],
   "source": [
    "print(len(y_train))"
   ]
  },
  {
   "cell_type": "code",
   "execution_count": 227,
   "metadata": {},
   "outputs": [],
   "source": [
    "# lấy danh sách stopword\n",
    "stop = set(stopwords.words('english'))\n",
    "# stop = ()\n",
    "brown_words = set(word for word in brown.words() if word.lower() not in stop)|{\"biden\",\n",
    "                                                                               \"ukraine\",\"kiev\",\"kyiv\",\"zelensky\", \"ukrainian\", \"ukrainians\",\n",
    "                                                                               \"putin\",\"kremlin\", \"russia\", \"russian\", \"russians\",\n",
    "                                                                               \"not\", \"no\", \"nor\", \"against\", \"never\", \"nobody\", \"none\", \"nowhere\"}\n",
    "\n",
    "lemmatizer = WordNetLemmatizer()\n",
    "tokenizer = RegexpTokenizer(r'[a-zA-Z]+')"
   ]
  },
  {
   "cell_type": "code",
   "execution_count": 228,
   "metadata": {},
   "outputs": [],
   "source": [
    "def lemma(text):\n",
    "    words = tokenizer.tokenize(text)\n",
    "    cleaned_words = [lemmatizer.lemmatize(word, pos='v') for word in words if word in brown_words]\n",
    "    return cleaned_words\n",
    "\n",
    "\n",
    "# Loại bỏ stop words từ mỗi văn bản trong danh sách X\n",
    "X_cleaned = [lemma(text) for text in X_train]\n",
    "X_full = [lemma(text) for text in X_row]"
   ]
  },
  {
   "cell_type": "code",
   "execution_count": 229,
   "metadata": {},
   "outputs": [
    {
     "data": {
      "text/plain": [
       "[['ukraine', 'every', 'right', 'attack', 'russia', 'point'],\n",
       " ['real', 'men', 'defend', 'country', 'people', 'respect'],\n",
       " ['well',\n",
       "  'honest',\n",
       "  'russian',\n",
       "  'visit',\n",
       "  'board',\n",
       "  'quite',\n",
       "  'time',\n",
       "  'russia',\n",
       "  'start',\n",
       "  'military',\n",
       "  'build',\n",
       "  'ukraine',\n",
       "  'border',\n",
       "  'last',\n",
       "  'year',\n",
       "  'call',\n",
       "  'journalist'],\n",
       " ['poor',\n",
       "  'russian',\n",
       "  'regime',\n",
       "  'world',\n",
       "  'say',\n",
       "  'no',\n",
       "  'brutal',\n",
       "  'invasion',\n",
       "  'play',\n",
       "  'victim',\n",
       "  'get',\n",
       "  'ukraine'],\n",
       " ['definitely', 'arm', 'ukraine', 'teeth', 'keep', 'russia'],\n",
       " ['legitimate',\n",
       "  'security',\n",
       "  'concern',\n",
       "  'already',\n",
       "  'countries',\n",
       "  'members',\n",
       "  'military',\n",
       "  'base',\n",
       "  'nuclear',\n",
       "  'capability',\n",
       "  'wipe',\n",
       "  'russia',\n",
       "  'map',\n",
       "  'ukraine',\n",
       "  'make',\n",
       "  'zero',\n",
       "  'difference',\n",
       "  'putin',\n",
       "  'know',\n",
       "  'join',\n",
       "  'could',\n",
       "  'not',\n",
       "  'invade',\n",
       "  'point'],\n",
       " ['ukraine',\n",
       "  'shut',\n",
       "  'listen',\n",
       "  'russia',\n",
       "  'like',\n",
       "  'shut',\n",
       "  'listen',\n",
       "  'us',\n",
       "  'argue',\n",
       "  'otherwise',\n",
       "  'accept',\n",
       "  'kind',\n",
       "  'absurd',\n",
       "  'prevalent',\n",
       "  'among',\n",
       "  'riddle',\n",
       "  'cat',\n",
       "  'ladies'],\n",
       " ['question',\n",
       "  'whole',\n",
       "  'population',\n",
       "  'suffer',\n",
       "  'action',\n",
       "  'russia',\n",
       "  'enable',\n",
       "  'formation',\n",
       "  'many',\n",
       "  'people',\n",
       "  'die',\n",
       "  'putin',\n",
       "  'meddle',\n",
       "  'ukraine',\n",
       "  'find',\n",
       "  'plenty',\n",
       "  'evidence',\n",
       "  'russian',\n",
       "  'military',\n",
       "  'know'],\n",
       " ['think',\n",
       "  'exactly',\n",
       "  'way',\n",
       "  'world',\n",
       "  'need',\n",
       "  'give',\n",
       "  'way',\n",
       "  'otherwise',\n",
       "  'nothing',\n",
       "  'loose',\n",
       "  'lot',\n",
       "  'damage',\n",
       "  'use',\n",
       "  'nuclear',\n",
       "  'power',\n",
       "  'hope',\n",
       "  'ukraine',\n",
       "  'military',\n",
       "  'ahead',\n",
       "  'way',\n",
       "  'deal',\n",
       "  'nuclear',\n",
       "  'threats'],\n",
       " ['russian', 'troop', 'ukraine', 'war', 'condemn']]"
      ]
     },
     "execution_count": 229,
     "metadata": {},
     "output_type": "execute_result"
    }
   ],
   "source": [
    "X_cleaned[:10]"
   ]
  },
  {
   "cell_type": "code",
   "execution_count": 230,
   "metadata": {},
   "outputs": [],
   "source": [
    "import torch\n",
    "import gensim.downloader as api\n",
    "from gensim.models.word2vec import Word2Vec"
   ]
  },
  {
   "cell_type": "code",
   "execution_count": 231,
   "metadata": {},
   "outputs": [
    {
     "name": "stdout",
     "output_type": "stream",
     "text": [
      "Using cuda device\n"
     ]
    }
   ],
   "source": [
    "device = \"cuda\" if torch.cuda.is_available() else \"cpu\"\n",
    "print(f\"Using {device} device\")"
   ]
  },
  {
   "cell_type": "code",
   "execution_count": 232,
   "metadata": {},
   "outputs": [
    {
     "data": {
      "text/plain": [
       "36"
      ]
     },
     "execution_count": 232,
     "metadata": {},
     "output_type": "execute_result"
    }
   ],
   "source": [
    "max_length = max(len(sentence) for sentence in X_cleaned)\n",
    "max_length"
   ]
  },
  {
   "cell_type": "code",
   "execution_count": 233,
   "metadata": {},
   "outputs": [
    {
     "name": "stdout",
     "output_type": "stream",
     "text": [
      "Vocabulary size: 2000\n"
     ]
    }
   ],
   "source": [
    "model = Word2Vec(X_full, \n",
    "                 vector_size=100, \n",
    "                 window=9, \n",
    "                 min_count=5, \n",
    "                 workers=8, \n",
    "                 epochs=50)\n",
    "vocabulary = model.wv.index_to_key\n",
    "print(f\"Vocabulary size: {len(vocabulary)}\")"
   ]
  },
  {
   "cell_type": "code",
   "execution_count": 234,
   "metadata": {},
   "outputs": [
    {
     "name": "stdout",
     "output_type": "stream",
     "text": [
      "brief: 0.5824\n",
      "presidents: 0.4392\n",
      "biden: 0.3970\n",
      "appeal: 0.3964\n",
      "onto: 0.3648\n",
      "display: 0.3617\n",
      "president: 0.3587\n",
      "elect: 0.3534\n",
      "prime: 0.3504\n",
      "refuse: 0.3475\n"
     ]
    }
   ],
   "source": [
    "# Tìm từ gần nhất \n",
    "similar_words = model.wv.most_similar(\"zelensky\")\n",
    "for word, score in similar_words:\n",
    "    print(f\"{word}: {score:.4f}\")"
   ]
  },
  {
   "cell_type": "code",
   "execution_count": 235,
   "metadata": {},
   "outputs": [
    {
     "name": "stdout",
     "output_type": "stream",
     "text": [
      "(4437, 36, 100)\n",
      "(4437,)\n"
     ]
    }
   ],
   "source": [
    "import numpy as np\n",
    "import torch\n",
    "from torch.nn.utils.rnn import pad_sequence\n",
    "\n",
    "def vectorize(X, y, model=model):\n",
    "    X_vectors = []\n",
    "    y_vectors = []\n",
    "    # Chuyển từng từ trong mỗi câu thành vector biểu diễn và thêm padding\n",
    "    for sentence, label in zip(X, y):\n",
    "        if len(sentence) < 5:\n",
    "            continue\n",
    "\n",
    "        sentence_vectors = []\n",
    "        for i, word in enumerate(sentence):\n",
    "            # Kiểm tra xem từ đó có trong từ vựng của mô hình Word2Vec hay không\n",
    "            if i > 35:\n",
    "                break\n",
    "            if word in model.wv:\n",
    "                word_vector = model.wv[word]\n",
    "                sentence_vectors.append(word_vector)\n",
    "            else:\n",
    "                pass\n",
    "\n",
    "        # Thêm padding cho câu để độ dài của mỗi câu là 35\n",
    "        while len(sentence_vectors) <= 35:\n",
    "            sentence_vectors.append(np.zeros((100,)))  # Sử dụng vector zeros cho padding\n",
    "\n",
    "        # Chuyển danh sách các vector thành một tensor\n",
    "        sentence_tensor = torch.tensor(sentence_vectors)\n",
    "        # Thêm câu đã được padding vào danh sách X_vectors\n",
    "        X_vectors.append(sentence_tensor)\n",
    "        y_vectors.append(label)\n",
    "\n",
    "\n",
    "    # Chuyển danh sách X_vectors thành một tensor\n",
    "    X_padded = np.array(X_vectors)\n",
    "    y_padded = np.array(y_vectors)\n",
    "    return X_padded, y_padded\n",
    "# In ra kích thước của X_padded\n",
    "X_input, y_input = vectorize(X_cleaned, y_train)\n",
    "print(X_input.shape)\n",
    "print(y_input.shape)\n"
   ]
  },
  {
   "cell_type": "code",
   "execution_count": 236,
   "metadata": {},
   "outputs": [],
   "source": [
    "import torch\n",
    "import torch.nn as nn\n",
    "\n",
    "class LSTMClassifier(nn.Module):\n",
    "    def __init__(self, input_size, hidden_size, num_layers):\n",
    "        super(LSTMClassifier, self).__init__()\n",
    "        self.hidden_size = hidden_size\n",
    "        self.num_layers = num_layers\n",
    "        self.lstm = nn.LSTM(input_size, hidden_size, num_layers, batch_first=True)\n",
    "        self.fc1 = nn.Linear(hidden_size, 1)\n",
    "        self.fc2 = nn.Linear(8, 1)\n",
    "        self.relu = nn.ReLU()\n",
    "        self.dropout = nn.Dropout(0.3)\n",
    "    \n",
    "    def forward(self, x):\n",
    "        # Khởi tạo hidden state và cell state\n",
    "        h0 = torch.zeros(self.num_layers, x.size(0), self.hidden_size).to(x.device)\n",
    "        c0 = torch.zeros(self.num_layers, x.size(0), self.hidden_size).to(x.device)\n",
    "        \n",
    "        # Đưa đầu vào qua LSTM\n",
    "        out, _ = self.lstm(x, (h0, c0))\n",
    "        \n",
    "        # Lấy output của lớp cuối cùng\n",
    "        out = self.dropout(out)\n",
    "        out = self.fc1(out[:, -1, :])\n",
    "        # out = self.dropout(out)\n",
    "        # out = self.relu(out)\n",
    "        # out = self.fc2(out)\n",
    "        return out.squeeze(1)\n",
    "    \n",
    "class RNNClassifier(nn.Module):\n",
    "    def __init__(self, input_size, hidden_size, num_layers):\n",
    "        super(RNNClassifier, self).__init__()\n",
    "        self.hidden_size = hidden_size\n",
    "        self.num_layers = num_layers\n",
    "        self.rnn = nn.RNN(input_size, hidden_size, num_layers, batch_first=True)\n",
    "        self.fc = nn.Linear(hidden_size, 1)\n",
    "        self.dropout = nn.Dropout(0.3)\n",
    "    \n",
    "    def forward(self, x):\n",
    "        # Khởi tạo hidden state\n",
    "        h0 = torch.zeros(self.num_layers, x.size(0), self.hidden_size).to(x.device)\n",
    "        \n",
    "        # Đưa đầu vào qua RNN\n",
    "        out, _ = self.rnn(x, h0)\n",
    "        \n",
    "        # Lấy output của lớp cuối cùng\n",
    "        out = self.dropout(out)\n",
    "        out = self.fc(out[:, -1, :])\n",
    "        return out.squeeze(1)"
   ]
  },
  {
   "cell_type": "code",
   "execution_count": 237,
   "metadata": {},
   "outputs": [
    {
     "name": "stdout",
     "output_type": "stream",
     "text": [
      "torch.Size([5036, 36, 100]) torch.Size([888, 36, 100])\n"
     ]
    }
   ],
   "source": [
    "X_train, X_valid, y_train, y_valid = train_test_split(X_input, y_input, test_size=0.2, stratify=y_input)\n",
    "\n",
    "# Xác định số lượng mẫu của mỗi lớp\n",
    "class_0_count = np.sum(y_train == 0)\n",
    "class_1_count = np.sum(y_train == 1)\n",
    "# Tính toán số lượng mẫu cần thêm vào mỗi lớp để làm cho số lượng mẫu của hai lớp bằng nhau\n",
    "samples_to_add = max(class_0_count, class_1_count) - min(class_0_count, class_1_count)\n",
    "\n",
    "# Lấy mẫu ngẫu nhiên từ các mẫu hiện có trong lớp ít mẫu để tạo ra số lượng mẫu cần thiết và thêm vào tập train\n",
    "if class_0_count < class_1_count:\n",
    "    X_train_class_0 = X_train[y_train == 0]\n",
    "    y_train_class_0 = y_train[y_train == 0]\n",
    "    additional_indices = np.random.choice(range(class_0_count), samples_to_add)\n",
    "    X_train_additional = X_train_class_0[additional_indices]\n",
    "    y_train_additional = y_train_class_0[additional_indices]\n",
    "    X_train = np.concatenate((X_train, X_train_additional))\n",
    "    y_train = np.concatenate((y_train, y_train_additional))\n",
    "else:\n",
    "    X_train_class_1 = X_train[y_train == 1]\n",
    "    y_train_class_1 = y_train[y_train == 1]\n",
    "    additional_indices = np.random.choice(range(class_1_count), samples_to_add)\n",
    "    X_train_additional = X_train_class_1[additional_indices]\n",
    "    y_train_additional = y_train_class_1[additional_indices]\n",
    "    X_train = np.concatenate((X_train, X_train_additional))\n",
    "    y_train = np.concatenate((y_train, y_train_additional))\n",
    "\n",
    "# Trộn lại dữ liệu để đảm bảo tính ngẫu nhiên\n",
    "X_train, y_train = shuffle(X_train, y_train, random_state=42)\n",
    "\n",
    "X_train = torch.tensor(X_train, dtype=torch.float32).to(device)\n",
    "X_valid = torch.tensor(X_valid, dtype=torch.float32).to(device)\n",
    "y_train = torch.tensor(y_train).to(device)\n",
    "y_valid = torch.tensor(y_valid).to(device)\n",
    "\n",
    "# Tạo DataLoader cho dữ liệu train và validation\n",
    "train_dataset = TensorDataset(X_train, y_train)\n",
    "\n",
    "valid_dataset = TensorDataset(X_valid, y_valid)\n",
    "print(X_train.shape, X_valid.shape)"
   ]
  },
  {
   "cell_type": "code",
   "execution_count": 238,
   "metadata": {},
   "outputs": [],
   "source": [
    "def train(model, optimizer, X_input, y_input, num_epochs = 200, batch_size = 128):   \n",
    "    losses_train = []\n",
    "    losses_valid = []\n",
    "    accuracies = []\n",
    "    for epoch in range(1, num_epochs + 1):\n",
    "        train_loader = DataLoader(train_dataset, batch_size=batch_size, shuffle=True)\n",
    "\n",
    "        # Huấn luyện\n",
    "        model.train()\n",
    "        for X_batch, y_batch in train_loader:\n",
    "            optimizer.zero_grad()\n",
    "            outputs = model(X_batch)\n",
    "            loss = criterion(outputs, y_batch.float())\n",
    "            loss.backward()\n",
    "            optimizer.step()\n",
    "\n",
    "        # In ra loss sau mỗi 5 eclass_0_count = np.sum(predicted_labels == 0)\n",
    "        if epoch % 10 == 0:\n",
    "\n",
    "            # Đánh giá mô hình trên tập validation\n",
    "            model.eval()\n",
    "            with torch.no_grad():\n",
    "                # for X_batch, y_batch in valid_loader:\n",
    "                outputs_train = model(X_train)\n",
    "                loss_train = criterion(outputs_train, y_train.float())\n",
    "                losses_train.append(loss_train.item())\n",
    "                print(f\"Epoch {epoch}, Loss train: {loss_train.item()}\")\n",
    "\n",
    "                outputs_valid = model(X_valid)\n",
    "                loss_valid = criterion(outputs_valid, y_valid.float())\n",
    "                losses_valid.append(loss_valid.item())\n",
    "                print(f\"Epoch {epoch}, Loss validate: {loss_valid.item()}\")\n",
    "\n",
    "            # _, predicted = torch.max(outputs_valid, 1)\n",
    "            predicted = torch.round(torch.sigmoid(outputs_valid))\n",
    "            predicted_labels = predicted.cpu().numpy()\n",
    "            true_labels = y_valid.cpu().numpy()\n",
    "            accuracy = accuracy_score(true_labels, predicted_labels)\n",
    "            accuracies.append(accuracy)\n",
    "            precision = precision_score(true_labels, predicted_labels)\n",
    "            recall = recall_score(true_labels, predicted_labels)\n",
    "            f1 = f1_score(true_labels, predicted_labels)\n",
    "\n",
    "            print(\"Accuracy:\", accuracy)\n",
    "            print(\"Precision:\", precision)\n",
    "            print(\"Recall:\", recall)\n",
    "            print(\"F1 Score:\", f1)\n",
    "\n",
    "            print(\"=========================================\")\n",
    "    return model, losses_train, losses_valid, accuracies"
   ]
  },
  {
   "cell_type": "code",
   "execution_count": 239,
   "metadata": {},
   "outputs": [
    {
     "data": {
      "text/plain": [
       "RNNClassifier(\n",
       "  (rnn): RNN(100, 16, batch_first=True)\n",
       "  (fc): Linear(in_features=16, out_features=1, bias=True)\n",
       "  (dropout): Dropout(p=0.3, inplace=False)\n",
       ")"
      ]
     },
     "execution_count": 239,
     "metadata": {},
     "output_type": "execute_result"
    }
   ],
   "source": [
    "lr=0.001\n",
    "# Khởi tạo mô hình\n",
    "lstm = LSTMClassifier(input_size=100,\n",
    "                        hidden_size=16, \n",
    "                        num_layers=1)\n",
    "rnn = RNNClassifier(input_size=100,\n",
    "                        hidden_size=16, \n",
    "                        num_layers=1)\n",
    "criterion = nn.BCEWithLogitsLoss()\n",
    "optimizer_lstm = torch.optim.Adam(lstm.parameters(), lr=lr)\n",
    "optimizer_rnn = torch.optim.Adam(rnn.parameters(), lr=lr)\n",
    "lstm.to(device)\n",
    "rnn.to(device)"
   ]
  },
  {
   "cell_type": "code",
   "execution_count": 240,
   "metadata": {},
   "outputs": [
    {
     "name": "stdout",
     "output_type": "stream",
     "text": [
      "Epoch 10, Loss train: 0.6769300699234009\n",
      "Epoch 10, Loss validate: 0.696967363357544\n",
      "Accuracy: 0.5123873873873874\n",
      "Precision: 0.30158730158730157\n",
      "Recall: 0.5155038759689923\n",
      "F1 Score: 0.3805436337625179\n",
      "=========================================\n",
      "Epoch 20, Loss train: 0.6741040945053101\n",
      "Epoch 20, Loss validate: 0.7022152543067932\n",
      "Accuracy: 0.5022522522522522\n",
      "Precision: 0.2927927927927928\n",
      "Recall: 0.5038759689922481\n",
      "F1 Score: 0.37037037037037035\n",
      "=========================================\n",
      "Epoch 30, Loss train: 0.6773445010185242\n",
      "Epoch 30, Loss validate: 0.7063300609588623\n",
      "Accuracy: 0.4966216216216216\n",
      "Precision: 0.29046563192904656\n",
      "Recall: 0.5077519379844961\n",
      "F1 Score: 0.3695345557122708\n",
      "=========================================\n",
      "Epoch 40, Loss train: 0.6810513138771057\n",
      "Epoch 40, Loss validate: 0.6990979313850403\n",
      "Accuracy: 0.5\n",
      "Precision: 0.28863636363636364\n",
      "Recall: 0.49224806201550386\n",
      "F1 Score: 0.3638968481375358\n",
      "=========================================\n",
      "Epoch 50, Loss train: 0.6828393340110779\n",
      "Epoch 50, Loss validate: 0.7000408172607422\n",
      "Accuracy: 0.49774774774774777\n",
      "Precision: 0.2783018867924528\n",
      "Recall: 0.4573643410852713\n",
      "F1 Score: 0.346041055718475\n",
      "=========================================\n",
      "Epoch 60, Loss train: 0.68501877784729\n",
      "Epoch 60, Loss validate: 0.706672728061676\n",
      "Accuracy: 0.47072072072072074\n",
      "Precision: 0.2644444444444444\n",
      "Recall: 0.46124031007751937\n",
      "F1 Score: 0.33615819209039544\n",
      "=========================================\n"
     ]
    },
    {
     "ename": "KeyboardInterrupt",
     "evalue": "",
     "output_type": "error",
     "traceback": [
      "\u001b[0;31m---------------------------------------------------------------------------\u001b[0m",
      "\u001b[0;31mKeyboardInterrupt\u001b[0m                         Traceback (most recent call last)",
      "Cell \u001b[0;32mIn[240], line 1\u001b[0m\n\u001b[0;32m----> 1\u001b[0m rnn, losses_train_rnn, losses_valid_rnn, accuracies_rnn \u001b[38;5;241m=\u001b[39m \u001b[43mtrain\u001b[49m\u001b[43m(\u001b[49m\u001b[43mrnn\u001b[49m\u001b[43m,\u001b[49m\u001b[43m \u001b[49m\u001b[43moptimizer_rnn\u001b[49m\u001b[43m,\u001b[49m\u001b[43m \u001b[49m\u001b[43mX_input\u001b[49m\u001b[43m,\u001b[49m\u001b[43m \u001b[49m\u001b[43my_input\u001b[49m\u001b[43m)\u001b[49m\n",
      "Cell \u001b[0;32mIn[238], line 12\u001b[0m, in \u001b[0;36mtrain\u001b[0;34m(model, optimizer, X_input, y_input, num_epochs, batch_size)\u001b[0m\n\u001b[1;32m     10\u001b[0m \u001b[38;5;28;01mfor\u001b[39;00m X_batch, y_batch \u001b[38;5;129;01min\u001b[39;00m train_loader:\n\u001b[1;32m     11\u001b[0m     optimizer\u001b[38;5;241m.\u001b[39mzero_grad()\n\u001b[0;32m---> 12\u001b[0m     outputs \u001b[38;5;241m=\u001b[39m \u001b[43mmodel\u001b[49m\u001b[43m(\u001b[49m\u001b[43mX_batch\u001b[49m\u001b[43m)\u001b[49m\n\u001b[1;32m     13\u001b[0m     loss \u001b[38;5;241m=\u001b[39m criterion(outputs, y_batch\u001b[38;5;241m.\u001b[39mfloat())\n\u001b[1;32m     14\u001b[0m     loss\u001b[38;5;241m.\u001b[39mbackward()\n",
      "File \u001b[0;32m~/anaconda3/envs/NLP/lib/python3.9/site-packages/torch/nn/modules/module.py:1511\u001b[0m, in \u001b[0;36mModule._wrapped_call_impl\u001b[0;34m(self, *args, **kwargs)\u001b[0m\n\u001b[1;32m   1509\u001b[0m     \u001b[38;5;28;01mreturn\u001b[39;00m \u001b[38;5;28mself\u001b[39m\u001b[38;5;241m.\u001b[39m_compiled_call_impl(\u001b[38;5;241m*\u001b[39margs, \u001b[38;5;241m*\u001b[39m\u001b[38;5;241m*\u001b[39mkwargs)  \u001b[38;5;66;03m# type: ignore[misc]\u001b[39;00m\n\u001b[1;32m   1510\u001b[0m \u001b[38;5;28;01melse\u001b[39;00m:\n\u001b[0;32m-> 1511\u001b[0m     \u001b[38;5;28;01mreturn\u001b[39;00m \u001b[38;5;28;43mself\u001b[39;49m\u001b[38;5;241;43m.\u001b[39;49m\u001b[43m_call_impl\u001b[49m\u001b[43m(\u001b[49m\u001b[38;5;241;43m*\u001b[39;49m\u001b[43margs\u001b[49m\u001b[43m,\u001b[49m\u001b[43m \u001b[49m\u001b[38;5;241;43m*\u001b[39;49m\u001b[38;5;241;43m*\u001b[39;49m\u001b[43mkwargs\u001b[49m\u001b[43m)\u001b[49m\n",
      "File \u001b[0;32m~/anaconda3/envs/NLP/lib/python3.9/site-packages/torch/nn/modules/module.py:1520\u001b[0m, in \u001b[0;36mModule._call_impl\u001b[0;34m(self, *args, **kwargs)\u001b[0m\n\u001b[1;32m   1515\u001b[0m \u001b[38;5;66;03m# If we don't have any hooks, we want to skip the rest of the logic in\u001b[39;00m\n\u001b[1;32m   1516\u001b[0m \u001b[38;5;66;03m# this function, and just call forward.\u001b[39;00m\n\u001b[1;32m   1517\u001b[0m \u001b[38;5;28;01mif\u001b[39;00m \u001b[38;5;129;01mnot\u001b[39;00m (\u001b[38;5;28mself\u001b[39m\u001b[38;5;241m.\u001b[39m_backward_hooks \u001b[38;5;129;01mor\u001b[39;00m \u001b[38;5;28mself\u001b[39m\u001b[38;5;241m.\u001b[39m_backward_pre_hooks \u001b[38;5;129;01mor\u001b[39;00m \u001b[38;5;28mself\u001b[39m\u001b[38;5;241m.\u001b[39m_forward_hooks \u001b[38;5;129;01mor\u001b[39;00m \u001b[38;5;28mself\u001b[39m\u001b[38;5;241m.\u001b[39m_forward_pre_hooks\n\u001b[1;32m   1518\u001b[0m         \u001b[38;5;129;01mor\u001b[39;00m _global_backward_pre_hooks \u001b[38;5;129;01mor\u001b[39;00m _global_backward_hooks\n\u001b[1;32m   1519\u001b[0m         \u001b[38;5;129;01mor\u001b[39;00m _global_forward_hooks \u001b[38;5;129;01mor\u001b[39;00m _global_forward_pre_hooks):\n\u001b[0;32m-> 1520\u001b[0m     \u001b[38;5;28;01mreturn\u001b[39;00m \u001b[43mforward_call\u001b[49m\u001b[43m(\u001b[49m\u001b[38;5;241;43m*\u001b[39;49m\u001b[43margs\u001b[49m\u001b[43m,\u001b[49m\u001b[43m \u001b[49m\u001b[38;5;241;43m*\u001b[39;49m\u001b[38;5;241;43m*\u001b[39;49m\u001b[43mkwargs\u001b[49m\u001b[43m)\u001b[49m\n\u001b[1;32m   1522\u001b[0m \u001b[38;5;28;01mtry\u001b[39;00m:\n\u001b[1;32m   1523\u001b[0m     result \u001b[38;5;241m=\u001b[39m \u001b[38;5;28;01mNone\u001b[39;00m\n",
      "Cell \u001b[0;32mIn[236], line 45\u001b[0m, in \u001b[0;36mRNNClassifier.forward\u001b[0;34m(self, x)\u001b[0m\n\u001b[1;32m     42\u001b[0m h0 \u001b[38;5;241m=\u001b[39m torch\u001b[38;5;241m.\u001b[39mzeros(\u001b[38;5;28mself\u001b[39m\u001b[38;5;241m.\u001b[39mnum_layers, x\u001b[38;5;241m.\u001b[39msize(\u001b[38;5;241m0\u001b[39m), \u001b[38;5;28mself\u001b[39m\u001b[38;5;241m.\u001b[39mhidden_size)\u001b[38;5;241m.\u001b[39mto(x\u001b[38;5;241m.\u001b[39mdevice)\n\u001b[1;32m     44\u001b[0m \u001b[38;5;66;03m# Đưa đầu vào qua RNN\u001b[39;00m\n\u001b[0;32m---> 45\u001b[0m out, _ \u001b[38;5;241m=\u001b[39m \u001b[38;5;28;43mself\u001b[39;49m\u001b[38;5;241;43m.\u001b[39;49m\u001b[43mrnn\u001b[49m\u001b[43m(\u001b[49m\u001b[43mx\u001b[49m\u001b[43m,\u001b[49m\u001b[43m \u001b[49m\u001b[43mh0\u001b[49m\u001b[43m)\u001b[49m\n\u001b[1;32m     47\u001b[0m \u001b[38;5;66;03m# Lấy output của lớp cuối cùng\u001b[39;00m\n\u001b[1;32m     48\u001b[0m out \u001b[38;5;241m=\u001b[39m \u001b[38;5;28mself\u001b[39m\u001b[38;5;241m.\u001b[39mdropout(out)\n",
      "File \u001b[0;32m~/anaconda3/envs/NLP/lib/python3.9/site-packages/torch/nn/modules/module.py:1511\u001b[0m, in \u001b[0;36mModule._wrapped_call_impl\u001b[0;34m(self, *args, **kwargs)\u001b[0m\n\u001b[1;32m   1509\u001b[0m     \u001b[38;5;28;01mreturn\u001b[39;00m \u001b[38;5;28mself\u001b[39m\u001b[38;5;241m.\u001b[39m_compiled_call_impl(\u001b[38;5;241m*\u001b[39margs, \u001b[38;5;241m*\u001b[39m\u001b[38;5;241m*\u001b[39mkwargs)  \u001b[38;5;66;03m# type: ignore[misc]\u001b[39;00m\n\u001b[1;32m   1510\u001b[0m \u001b[38;5;28;01melse\u001b[39;00m:\n\u001b[0;32m-> 1511\u001b[0m     \u001b[38;5;28;01mreturn\u001b[39;00m \u001b[38;5;28;43mself\u001b[39;49m\u001b[38;5;241;43m.\u001b[39;49m\u001b[43m_call_impl\u001b[49m\u001b[43m(\u001b[49m\u001b[38;5;241;43m*\u001b[39;49m\u001b[43margs\u001b[49m\u001b[43m,\u001b[49m\u001b[43m \u001b[49m\u001b[38;5;241;43m*\u001b[39;49m\u001b[38;5;241;43m*\u001b[39;49m\u001b[43mkwargs\u001b[49m\u001b[43m)\u001b[49m\n",
      "File \u001b[0;32m~/anaconda3/envs/NLP/lib/python3.9/site-packages/torch/nn/modules/module.py:1520\u001b[0m, in \u001b[0;36mModule._call_impl\u001b[0;34m(self, *args, **kwargs)\u001b[0m\n\u001b[1;32m   1515\u001b[0m \u001b[38;5;66;03m# If we don't have any hooks, we want to skip the rest of the logic in\u001b[39;00m\n\u001b[1;32m   1516\u001b[0m \u001b[38;5;66;03m# this function, and just call forward.\u001b[39;00m\n\u001b[1;32m   1517\u001b[0m \u001b[38;5;28;01mif\u001b[39;00m \u001b[38;5;129;01mnot\u001b[39;00m (\u001b[38;5;28mself\u001b[39m\u001b[38;5;241m.\u001b[39m_backward_hooks \u001b[38;5;129;01mor\u001b[39;00m \u001b[38;5;28mself\u001b[39m\u001b[38;5;241m.\u001b[39m_backward_pre_hooks \u001b[38;5;129;01mor\u001b[39;00m \u001b[38;5;28mself\u001b[39m\u001b[38;5;241m.\u001b[39m_forward_hooks \u001b[38;5;129;01mor\u001b[39;00m \u001b[38;5;28mself\u001b[39m\u001b[38;5;241m.\u001b[39m_forward_pre_hooks\n\u001b[1;32m   1518\u001b[0m         \u001b[38;5;129;01mor\u001b[39;00m _global_backward_pre_hooks \u001b[38;5;129;01mor\u001b[39;00m _global_backward_hooks\n\u001b[1;32m   1519\u001b[0m         \u001b[38;5;129;01mor\u001b[39;00m _global_forward_hooks \u001b[38;5;129;01mor\u001b[39;00m _global_forward_pre_hooks):\n\u001b[0;32m-> 1520\u001b[0m     \u001b[38;5;28;01mreturn\u001b[39;00m \u001b[43mforward_call\u001b[49m\u001b[43m(\u001b[49m\u001b[38;5;241;43m*\u001b[39;49m\u001b[43margs\u001b[49m\u001b[43m,\u001b[49m\u001b[43m \u001b[49m\u001b[38;5;241;43m*\u001b[39;49m\u001b[38;5;241;43m*\u001b[39;49m\u001b[43mkwargs\u001b[49m\u001b[43m)\u001b[49m\n\u001b[1;32m   1522\u001b[0m \u001b[38;5;28;01mtry\u001b[39;00m:\n\u001b[1;32m   1523\u001b[0m     result \u001b[38;5;241m=\u001b[39m \u001b[38;5;28;01mNone\u001b[39;00m\n",
      "File \u001b[0;32m~/anaconda3/envs/NLP/lib/python3.9/site-packages/torch/nn/modules/rnn.py:554\u001b[0m, in \u001b[0;36mRNN.forward\u001b[0;34m(self, input, hx)\u001b[0m\n\u001b[1;32m    552\u001b[0m \u001b[38;5;28;01mif\u001b[39;00m batch_sizes \u001b[38;5;129;01mis\u001b[39;00m \u001b[38;5;28;01mNone\u001b[39;00m:\n\u001b[1;32m    553\u001b[0m     \u001b[38;5;28;01mif\u001b[39;00m \u001b[38;5;28mself\u001b[39m\u001b[38;5;241m.\u001b[39mmode \u001b[38;5;241m==\u001b[39m \u001b[38;5;124m'\u001b[39m\u001b[38;5;124mRNN_TANH\u001b[39m\u001b[38;5;124m'\u001b[39m:\n\u001b[0;32m--> 554\u001b[0m         result \u001b[38;5;241m=\u001b[39m \u001b[43m_VF\u001b[49m\u001b[38;5;241;43m.\u001b[39;49m\u001b[43mrnn_tanh\u001b[49m\u001b[43m(\u001b[49m\u001b[38;5;28;43minput\u001b[39;49m\u001b[43m,\u001b[49m\u001b[43m \u001b[49m\u001b[43mhx\u001b[49m\u001b[43m,\u001b[49m\u001b[43m \u001b[49m\u001b[38;5;28;43mself\u001b[39;49m\u001b[38;5;241;43m.\u001b[39;49m\u001b[43m_flat_weights\u001b[49m\u001b[43m,\u001b[49m\u001b[43m \u001b[49m\u001b[38;5;28;43mself\u001b[39;49m\u001b[38;5;241;43m.\u001b[39;49m\u001b[43mbias\u001b[49m\u001b[43m,\u001b[49m\u001b[43m \u001b[49m\u001b[38;5;28;43mself\u001b[39;49m\u001b[38;5;241;43m.\u001b[39;49m\u001b[43mnum_layers\u001b[49m\u001b[43m,\u001b[49m\n\u001b[1;32m    555\u001b[0m \u001b[43m                              \u001b[49m\u001b[38;5;28;43mself\u001b[39;49m\u001b[38;5;241;43m.\u001b[39;49m\u001b[43mdropout\u001b[49m\u001b[43m,\u001b[49m\u001b[43m \u001b[49m\u001b[38;5;28;43mself\u001b[39;49m\u001b[38;5;241;43m.\u001b[39;49m\u001b[43mtraining\u001b[49m\u001b[43m,\u001b[49m\u001b[43m \u001b[49m\u001b[38;5;28;43mself\u001b[39;49m\u001b[38;5;241;43m.\u001b[39;49m\u001b[43mbidirectional\u001b[49m\u001b[43m,\u001b[49m\n\u001b[1;32m    556\u001b[0m \u001b[43m                              \u001b[49m\u001b[38;5;28;43mself\u001b[39;49m\u001b[38;5;241;43m.\u001b[39;49m\u001b[43mbatch_first\u001b[49m\u001b[43m)\u001b[49m\n\u001b[1;32m    557\u001b[0m     \u001b[38;5;28;01melse\u001b[39;00m:\n\u001b[1;32m    558\u001b[0m         result \u001b[38;5;241m=\u001b[39m _VF\u001b[38;5;241m.\u001b[39mrnn_relu(\u001b[38;5;28minput\u001b[39m, hx, \u001b[38;5;28mself\u001b[39m\u001b[38;5;241m.\u001b[39m_flat_weights, \u001b[38;5;28mself\u001b[39m\u001b[38;5;241m.\u001b[39mbias, \u001b[38;5;28mself\u001b[39m\u001b[38;5;241m.\u001b[39mnum_layers,\n\u001b[1;32m    559\u001b[0m                               \u001b[38;5;28mself\u001b[39m\u001b[38;5;241m.\u001b[39mdropout, \u001b[38;5;28mself\u001b[39m\u001b[38;5;241m.\u001b[39mtraining, \u001b[38;5;28mself\u001b[39m\u001b[38;5;241m.\u001b[39mbidirectional,\n\u001b[1;32m    560\u001b[0m                               \u001b[38;5;28mself\u001b[39m\u001b[38;5;241m.\u001b[39mbatch_first)\n",
      "\u001b[0;31mKeyboardInterrupt\u001b[0m: "
     ]
    }
   ],
   "source": [
    "rnn, losses_train_rnn, losses_valid_rnn, accuracies_rnn = train(rnn, optimizer_rnn, X_input, y_input)"
   ]
  },
  {
   "cell_type": "code",
   "execution_count": null,
   "metadata": {},
   "outputs": [
    {
     "name": "stdout",
     "output_type": "stream",
     "text": [
      "Epoch 10, Loss train: 0.6359629034996033\n",
      "Epoch 10, Loss validate: 0.6715218424797058\n",
      "Accuracy: 0.5957207207207207\n",
      "Precision: 0.37343358395989973\n",
      "Recall: 0.5775193798449613\n",
      "F1 Score: 0.45357686453576856\n",
      "=========================================\n",
      "Epoch 20, Loss train: 0.5882512331008911\n",
      "Epoch 20, Loss validate: 0.6714076399803162\n",
      "Accuracy: 0.6227477477477478\n",
      "Precision: 0.39275766016713093\n",
      "Recall: 0.5465116279069767\n",
      "F1 Score: 0.4570502431118315\n",
      "=========================================\n",
      "Epoch 30, Loss train: 0.5773966908454895\n",
      "Epoch 30, Loss validate: 0.6723432540893555\n",
      "Accuracy: 0.625\n",
      "Precision: 0.3972602739726027\n",
      "Recall: 0.562015503875969\n",
      "F1 Score: 0.46548956661316215\n",
      "=========================================\n",
      "Epoch 40, Loss train: 0.5713365077972412\n",
      "Epoch 40, Loss validate: 0.6988273859024048\n",
      "Accuracy: 0.6171171171171171\n",
      "Precision: 0.39267015706806285\n",
      "Recall: 0.5813953488372093\n",
      "F1 Score: 0.46875000000000006\n",
      "=========================================\n",
      "Epoch 50, Loss train: 0.5493615865707397\n",
      "Epoch 50, Loss validate: 0.6716486811637878\n",
      "Accuracy: 0.6396396396396397\n",
      "Precision: 0.4124293785310734\n",
      "Recall: 0.5658914728682171\n",
      "F1 Score: 0.4771241830065359\n",
      "=========================================\n",
      "Epoch 60, Loss train: 0.5635385513305664\n",
      "Epoch 60, Loss validate: 0.7216957807540894\n",
      "Accuracy: 0.6148648648648649\n",
      "Precision: 0.3900523560209424\n",
      "Recall: 0.5775193798449613\n",
      "F1 Score: 0.46562499999999996\n",
      "=========================================\n",
      "Epoch 70, Loss train: 0.5368589162826538\n",
      "Epoch 70, Loss validate: 0.6974049210548401\n",
      "Accuracy: 0.6295045045045045\n",
      "Precision: 0.3851132686084142\n",
      "Recall: 0.46124031007751937\n",
      "F1 Score: 0.4197530864197531\n",
      "=========================================\n",
      "Epoch 80, Loss train: 0.4904196262359619\n",
      "Epoch 80, Loss validate: 0.7080105543136597\n",
      "Accuracy: 0.6430180180180181\n",
      "Precision: 0.3903345724907063\n",
      "Recall: 0.4069767441860465\n",
      "F1 Score: 0.3984819734345351\n",
      "=========================================\n",
      "Epoch 90, Loss train: 0.48424291610717773\n",
      "Epoch 90, Loss validate: 0.7345126867294312\n",
      "Accuracy: 0.6452702702702703\n",
      "Precision: 0.38645418326693226\n",
      "Recall: 0.375968992248062\n",
      "F1 Score: 0.38113948919449897\n",
      "=========================================\n",
      "Epoch 100, Loss train: 0.48468703031539917\n",
      "Epoch 100, Loss validate: 0.7566676735877991\n",
      "Accuracy: 0.6497747747747747\n",
      "Precision: 0.4022140221402214\n",
      "Recall: 0.42248062015503873\n",
      "F1 Score: 0.4120982986767485\n",
      "=========================================\n",
      "Epoch 110, Loss train: 0.48616641759872437\n",
      "Epoch 110, Loss validate: 0.7812592387199402\n",
      "Accuracy: 0.6554054054054054\n",
      "Precision: 0.4\n",
      "Recall: 0.37209302325581395\n",
      "F1 Score: 0.38554216867469876\n",
      "=========================================\n",
      "Epoch 120, Loss train: 0.49412521719932556\n",
      "Epoch 120, Loss validate: 0.7739401459693909\n",
      "Accuracy: 0.6407657657657657\n",
      "Precision: 0.3914590747330961\n",
      "Recall: 0.4263565891472868\n",
      "F1 Score: 0.40816326530612246\n",
      "=========================================\n",
      "Epoch 130, Loss train: 0.405560702085495\n",
      "Epoch 130, Loss validate: 0.8169639110565186\n",
      "Accuracy: 0.6509009009009009\n",
      "Precision: 0.39166666666666666\n",
      "Recall: 0.3643410852713178\n",
      "F1 Score: 0.37751004016064255\n",
      "=========================================\n",
      "Epoch 140, Loss train: 0.37968987226486206\n",
      "Epoch 140, Loss validate: 0.8542110323905945\n",
      "Accuracy: 0.6677927927927928\n",
      "Precision: 0.4280155642023346\n",
      "Recall: 0.4263565891472868\n",
      "F1 Score: 0.42718446601941745\n",
      "=========================================\n",
      "Epoch 150, Loss train: 0.36475110054016113\n",
      "Epoch 150, Loss validate: 0.9118838310241699\n",
      "Accuracy: 0.6463963963963963\n",
      "Precision: 0.38235294117647056\n",
      "Recall: 0.35271317829457366\n",
      "F1 Score: 0.36693548387096775\n",
      "=========================================\n",
      "Epoch 160, Loss train: 0.3787258267402649\n",
      "Epoch 160, Loss validate: 0.8749660849571228\n",
      "Accuracy: 0.6565315315315315\n",
      "Precision: 0.3964757709251101\n",
      "Recall: 0.3488372093023256\n",
      "F1 Score: 0.3711340206185567\n",
      "=========================================\n",
      "Epoch 170, Loss train: 0.33705955743789673\n",
      "Epoch 170, Loss validate: 0.9343855977058411\n",
      "Accuracy: 0.6644144144144144\n",
      "Precision: 0.4186991869918699\n",
      "Recall: 0.3992248062015504\n",
      "F1 Score: 0.4087301587301587\n",
      "=========================================\n",
      "Epoch 180, Loss train: 0.3284043073654175\n",
      "Epoch 180, Loss validate: 0.9714259505271912\n",
      "Accuracy: 0.6576576576576577\n",
      "Precision: 0.3944954128440367\n",
      "Recall: 0.3333333333333333\n",
      "F1 Score: 0.36134453781512604\n",
      "=========================================\n",
      "Epoch 190, Loss train: 0.3467525839805603\n",
      "Epoch 190, Loss validate: 0.871554434299469\n",
      "Accuracy: 0.670045045045045\n",
      "Precision: 0.4146341463414634\n",
      "Recall: 0.32945736434108525\n",
      "F1 Score: 0.367170626349892\n",
      "=========================================\n",
      "Epoch 200, Loss train: 0.32171446084976196\n",
      "Epoch 200, Loss validate: 1.024406909942627\n",
      "Accuracy: 0.6418918918918919\n",
      "Precision: 0.36607142857142855\n",
      "Recall: 0.3178294573643411\n",
      "F1 Score: 0.34024896265560167\n",
      "=========================================\n"
     ]
    }
   ],
   "source": [
    "lstm, losses_train_lstm, losses_valid_lstm, accuracies_lstm = train(lstm, optimizer_lstm, X_input, y_input)"
   ]
  },
  {
   "cell_type": "code",
   "execution_count": null,
   "metadata": {},
   "outputs": [
    {
     "data": {
      "image/png": "[encoded data removed]",
      "text/plain": [
       "<Figure size 640x480 with 1 Axes>"
      ]
     },
     "metadata": {},
     "output_type": "display_data"
    }
   ],
   "source": [
    "plt.plot(losses_train_rnn, label='Train Loss')\n",
    "plt.plot(losses_valid_rnn, label='Validation Loss')\n",
    "plt.xlabel('Epoch')\n",
    "plt.ylabel('Loss')\n",
    "plt.title('RNN Training and Validation Loss')\n",
    "plt.legend()\n",
    "plt.show()\n"
   ]
  },
  {
   "cell_type": "code",
   "execution_count": null,
   "metadata": {},
   "outputs": [
    {
     "data": {
      "image/png": "[encoded data removed]",
      "text/plain": [
       "<Figure size 640x480 with 1 Axes>"
      ]
     },
     "metadata": {},
     "output_type": "display_data"
    }
   ],
   "source": [
    "plt.plot(losses_train_lstm, label='Train Loss')\n",
    "plt.plot(losses_valid_lstm, label='Validation Loss')\n",
    "plt.xlabel('Epoch')\n",
    "plt.ylabel('Loss')\n",
    "plt.title('LSTM Training and Validation Loss')\n",
    "plt.legend()\n",
    "plt.show()"
   ]
  },
  {
   "cell_type": "markdown",
   "metadata": {},
   "source": [
    "# Test"
   ]
  },
  {
   "cell_type": "code",
   "execution_count": null,
   "metadata": {},
   "outputs": [
    {
     "name": "stdout",
     "output_type": "stream",
     "text": [
      "31\n"
     ]
    }
   ],
   "source": [
    "X_test_cleaned = [lemma(text) for text in X_test]\n",
    "test_max_length = max(len(sentence) for sentence in X_test_cleaned)\n",
    "print(test_max_length)"
   ]
  },
  {
   "cell_type": "code",
   "execution_count": null,
   "metadata": {},
   "outputs": [
    {
     "name": "stdout",
     "output_type": "stream",
     "text": [
      "(1104, 36, 100)\n",
      "(1104,)\n"
     ]
    }
   ],
   "source": [
    "X_test_vector, y_test_vector = vectorize(X_test_cleaned, y_test)\n",
    "print(X_test_vector.shape)\n",
    "print(y_test_vector.shape)"
   ]
  },
  {
   "cell_type": "code",
   "execution_count": null,
   "metadata": {},
   "outputs": [],
   "source": [
    "def evaluate(model, X_test_vector, y_test_vector):\n",
    "    outputs_test = model(torch.tensor(X_test_vector, dtype=torch.float32).to(device))\n",
    "\n",
    "    predicted_label = torch.round(torch.sigmoid(outputs_test))\n",
    "    predicted_labels = predicted_label.cpu().detach().numpy()\n",
    "    true_labels = y_test_vector\n",
    "    accuracy = accuracy_score(true_labels, predicted_labels)\n",
    "    precision = precision_score(true_labels, predicted_labels)\n",
    "    recall = recall_score(true_labels, predicted_labels)\n",
    "    f1 = f1_score(true_labels, predicted_labels)\n",
    "\n",
    "    print(\"Accuracy:\", accuracy)\n",
    "    print(\"Precision:\", precision)\n",
    "    print(\"Recall:\", recall)\n",
    "    print(\"F1 Score:\", f1)\n"
   ]
  },
  {
   "cell_type": "code",
   "execution_count": null,
   "metadata": {},
   "outputs": [
    {
     "name": "stdout",
     "output_type": "stream",
     "text": [
      "Accuracy: 0.5027173913043478\n",
      "Precision: 0.28160919540229884\n",
      "Recall: 0.45794392523364486\n",
      "F1 Score: 0.3487544483985765\n"
     ]
    }
   ],
   "source": [
    "evaluate(rnn, X_test_vector, y_test_vector)"
   ]
  },
  {
   "cell_type": "code",
   "execution_count": null,
   "metadata": {},
   "outputs": [
    {
     "name": "stdout",
     "output_type": "stream",
     "text": [
      "Accuracy: 0.6376811594202898\n",
      "Precision: 0.3713355048859935\n",
      "Recall: 0.35514018691588783\n",
      "F1 Score: 0.36305732484076436\n"
     ]
    }
   ],
   "source": [
    "evaluate(lstm, X_test_vector, y_test_vector)"
   ]
  }
 ],
 "metadata": {
  "kernelspec": {
   "display_name": "NLP",
   "language": "python",
   "name": "python3"
  },
  "language_info": {
   "codemirror_mode": {
    "name": "ipython",
    "version": 3
   },
   "file_extension": ".py",
   "mimetype": "text/x-python",
   "name": "python",
   "nbconvert_exporter": "python",
   "pygments_lexer": "ipython3",
   "version": "3.9.18"
  }
 },
 "nbformat": 4,
 "nbformat_minor": 2
}
