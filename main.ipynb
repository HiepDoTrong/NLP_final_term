{
 "cells": [
  {
   "cell_type": "code",
   "execution_count": 760,
   "metadata": {},
   "outputs": [
    {
     "name": "stderr",
     "output_type": "stream",
     "text": [
      "[nltk_data] Downloading package stopwords to\n",
      "[nltk_data]     /home/dotronghiep/nltk_data...\n",
      "[nltk_data]   Package stopwords is already up-to-date!\n",
      "[nltk_data] Downloading package brown to\n",
      "[nltk_data]     /home/dotronghiep/nltk_data...\n",
      "[nltk_data]   Package brown is already up-to-date!\n",
      "[nltk_data] Downloading package wordnet to\n",
      "[nltk_data]     /home/dotronghiep/nltk_data...\n",
      "[nltk_data]   Package wordnet is already up-to-date!\n"
     ]
    }
   ],
   "source": [
    "import nltk\n",
    "import numpy as np\n",
    "from sklearn.utils import shuffle\n",
    "from nltk.corpus import stopwords, brown\n",
    "from torch.utils.data import TensorDataset, DataLoader\n",
    "nltk.download('stopwords')\n",
    "nltk.download('brown')\n",
    "nltk.download('wordnet')\n",
    "from nltk.stem import WordNetLemmatizer\n",
    "from nltk.tokenize import RegexpTokenizer\n",
    "from sklearn.metrics import accuracy_score, precision_score, recall_score, f1_score\n",
    "from matplotlib import pyplot as plt\n"
   ]
  },
  {
   "cell_type": "code",
   "execution_count": 761,
   "metadata": {},
   "outputs": [
    {
     "data": {
      "text/html": [
       "<div>\n",
       "<style scoped>\n",
       "    .dataframe tbody tr th:only-of-type {\n",
       "        vertical-align: middle;\n",
       "    }\n",
       "\n",
       "    .dataframe tbody tr th {\n",
       "        vertical-align: top;\n",
       "    }\n",
       "\n",
       "    .dataframe thead th {\n",
       "        text-align: right;\n",
       "    }\n",
       "</style>\n",
       "<table border=\"1\" class=\"dataframe\">\n",
       "  <thead>\n",
       "    <tr style=\"text-align: right;\">\n",
       "      <th></th>\n",
       "      <th>0</th>\n",
       "      <th>1</th>\n",
       "      <th>2</th>\n",
       "    </tr>\n",
       "  </thead>\n",
       "  <tbody>\n",
       "    <tr>\n",
       "      <th>0</th>\n",
       "      <td>1</td>\n",
       "      <td>0</td>\n",
       "      <td>impossible to stop basically means russia is n...</td>\n",
       "    </tr>\n",
       "    <tr>\n",
       "      <th>1</th>\n",
       "      <td>2</td>\n",
       "      <td>0</td>\n",
       "      <td>indeed. may russia soil then selves in terror ...</td>\n",
       "    </tr>\n",
       "    <tr>\n",
       "      <th>2</th>\n",
       "      <td>3</td>\n",
       "      <td>0</td>\n",
       "      <td>goodnight family, thanks to everyone for your ...</td>\n",
       "    </tr>\n",
       "    <tr>\n",
       "      <th>3</th>\n",
       "      <td>4</td>\n",
       "      <td>0</td>\n",
       "      <td>keep adding more sanctionsfastest way to get r...</td>\n",
       "    </tr>\n",
       "    <tr>\n",
       "      <th>4</th>\n",
       "      <td>5</td>\n",
       "      <td>0</td>\n",
       "      <td>russia does not get to rape ukraine in order t...</td>\n",
       "    </tr>\n",
       "    <tr>\n",
       "      <th>5</th>\n",
       "      <td>6</td>\n",
       "      <td>1</td>\n",
       "      <td>its already done de facto. east ukraineand cri...</td>\n",
       "    </tr>\n",
       "    <tr>\n",
       "      <th>6</th>\n",
       "      <td>7</td>\n",
       "      <td>1</td>\n",
       "      <td>russia takes most of sievierodonetsk city in e...</td>\n",
       "    </tr>\n",
       "    <tr>\n",
       "      <th>7</th>\n",
       "      <td>8</td>\n",
       "      <td>0</td>\n",
       "      <td>biden says us to send ukraine 'advanced rocket...</td>\n",
       "    </tr>\n",
       "    <tr>\n",
       "      <th>8</th>\n",
       "      <td>9</td>\n",
       "      <td>1</td>\n",
       "      <td>just in - biden us to send ukraine advanced ro...</td>\n",
       "    </tr>\n",
       "    <tr>\n",
       "      <th>9</th>\n",
       "      <td>10</td>\n",
       "      <td>0</td>\n",
       "      <td>why do you suppose i do not understand that. i...</td>\n",
       "    </tr>\n",
       "  </tbody>\n",
       "</table>\n",
       "</div>"
      ],
      "text/plain": [
       "    0  1                                                  2\n",
       "0   1  0  impossible to stop basically means russia is n...\n",
       "1   2  0  indeed. may russia soil then selves in terror ...\n",
       "2   3  0  goodnight family, thanks to everyone for your ...\n",
       "3   4  0  keep adding more sanctionsfastest way to get r...\n",
       "4   5  0  russia does not get to rape ukraine in order t...\n",
       "5   6  1  its already done de facto. east ukraineand cri...\n",
       "6   7  1  russia takes most of sievierodonetsk city in e...\n",
       "7   8  0  biden says us to send ukraine 'advanced rocket...\n",
       "8   9  1  just in - biden us to send ukraine advanced ro...\n",
       "9  10  0  why do you suppose i do not understand that. i..."
      ]
     },
     "execution_count": 761,
     "metadata": {},
     "output_type": "execute_result"
    }
   ],
   "source": [
    "import pandas as pd\n",
    "\n",
    "df = pd.read_csv('/home/dotronghiep/Documents/Datasets/Social_Listening/DataLabel.csv', header=None)\n",
    "df.head(10)"
   ]
  },
  {
   "cell_type": "code",
   "execution_count": 762,
   "metadata": {},
   "outputs": [],
   "source": [
    "X_row = df.iloc[:, 2].values\n",
    "y = df.iloc[:, 1].values"
   ]
  },
  {
   "cell_type": "code",
   "execution_count": 763,
   "metadata": {},
   "outputs": [
    {
     "name": "stdout",
     "output_type": "stream",
     "text": [
      "4108 1663\n"
     ]
    }
   ],
   "source": [
    "# Xác định số lượng mẫu của mỗi lớp\n",
    "class_0_count = np.sum(y == 0)\n",
    "class_1_count = np.sum(y == 1)\n",
    "print(class_0_count,class_1_count)"
   ]
  },
  {
   "cell_type": "code",
   "execution_count": 764,
   "metadata": {},
   "outputs": [],
   "source": [
    "from sklearn.model_selection import train_test_split\n",
    "\n",
    "X_train, X_test, y_train, y_test = train_test_split(X_row, y, test_size=0.2, random_state=42, stratify=y)"
   ]
  },
  {
   "cell_type": "markdown",
   "metadata": {},
   "source": [
    "# Train the model"
   ]
  },
  {
   "cell_type": "code",
   "execution_count": 765,
   "metadata": {},
   "outputs": [
    {
     "name": "stdout",
     "output_type": "stream",
     "text": [
      "4616\n"
     ]
    }
   ],
   "source": [
    "print(len(X_train))"
   ]
  },
  {
   "cell_type": "code",
   "execution_count": 766,
   "metadata": {},
   "outputs": [
    {
     "name": "stdout",
     "output_type": "stream",
     "text": [
      "4616\n"
     ]
    }
   ],
   "source": [
    "print(len(y_train))"
   ]
  },
  {
   "cell_type": "code",
   "execution_count": 767,
   "metadata": {},
   "outputs": [],
   "source": [
    "# lấy danh sách stopword\n",
    "stop = set(stopwords.words('english'))\n",
    "# stop = ()\n",
    "brown_words = set(word for word in brown.words() if word.lower() not in stop)|{\"biden\",\n",
    "                                                                               \"ukraine\",\"kiev\",\"kyiv\",\"zelensky\", \"ukrainian\", \"ukrainians\",\n",
    "                                                                               \"putin\",\"kremlin\", \"russia\", \"russian\", \"russians\",\n",
    "                                                                               \"not\", \"no\", \"nor\", \"against\", \"never\", \"nobody\", \"none\", \"nowhere\"}\n",
    "\n",
    "lemmatizer = WordNetLemmatizer()\n",
    "tokenizer = RegexpTokenizer(r'[a-zA-Z]+')"
   ]
  },
  {
   "cell_type": "code",
   "execution_count": 768,
   "metadata": {},
   "outputs": [],
   "source": [
    "def lemma(text):\n",
    "    words = tokenizer.tokenize(text)\n",
    "    cleaned_words = [lemmatizer.lemmatize(word, pos='v') for word in words if word in brown_words]\n",
    "    return cleaned_words\n",
    "\n",
    "\n",
    "# Loại bỏ stop words từ mỗi văn bản trong danh sách X\n",
    "X_cleaned = [lemma(text) for text in X_train]\n",
    "X_full = [lemma(text) for text in X_row]"
   ]
  },
  {
   "cell_type": "code",
   "execution_count": 769,
   "metadata": {},
   "outputs": [
    {
     "data": {
      "text/plain": [
       "[['ukraine', 'every', 'right', 'attack', 'russia', 'point'],\n",
       " ['real', 'men', 'defend', 'country', 'people', 'respect'],\n",
       " ['well',\n",
       "  'honest',\n",
       "  'russian',\n",
       "  'visit',\n",
       "  'board',\n",
       "  'quite',\n",
       "  'time',\n",
       "  'russia',\n",
       "  'start',\n",
       "  'military',\n",
       "  'build',\n",
       "  'ukraine',\n",
       "  'border',\n",
       "  'last',\n",
       "  'year',\n",
       "  'call',\n",
       "  'journalist'],\n",
       " ['poor',\n",
       "  'russian',\n",
       "  'regime',\n",
       "  'world',\n",
       "  'say',\n",
       "  'no',\n",
       "  'brutal',\n",
       "  'invasion',\n",
       "  'play',\n",
       "  'victim',\n",
       "  'get',\n",
       "  'ukraine'],\n",
       " ['definitely', 'arm', 'ukraine', 'teeth', 'keep', 'russia'],\n",
       " ['legitimate',\n",
       "  'security',\n",
       "  'concern',\n",
       "  'already',\n",
       "  'countries',\n",
       "  'members',\n",
       "  'military',\n",
       "  'base',\n",
       "  'nuclear',\n",
       "  'capability',\n",
       "  'wipe',\n",
       "  'russia',\n",
       "  'map',\n",
       "  'ukraine',\n",
       "  'make',\n",
       "  'zero',\n",
       "  'difference',\n",
       "  'putin',\n",
       "  'know',\n",
       "  'join',\n",
       "  'could',\n",
       "  'not',\n",
       "  'invade',\n",
       "  'point'],\n",
       " ['ukraine',\n",
       "  'shut',\n",
       "  'listen',\n",
       "  'russia',\n",
       "  'like',\n",
       "  'shut',\n",
       "  'listen',\n",
       "  'us',\n",
       "  'argue',\n",
       "  'otherwise',\n",
       "  'accept',\n",
       "  'kind',\n",
       "  'absurd',\n",
       "  'prevalent',\n",
       "  'among',\n",
       "  'riddle',\n",
       "  'cat',\n",
       "  'ladies'],\n",
       " ['question',\n",
       "  'whole',\n",
       "  'population',\n",
       "  'suffer',\n",
       "  'action',\n",
       "  'russia',\n",
       "  'enable',\n",
       "  'formation',\n",
       "  'many',\n",
       "  'people',\n",
       "  'die',\n",
       "  'putin',\n",
       "  'meddle',\n",
       "  'ukraine',\n",
       "  'find',\n",
       "  'plenty',\n",
       "  'evidence',\n",
       "  'russian',\n",
       "  'military',\n",
       "  'know'],\n",
       " ['think',\n",
       "  'exactly',\n",
       "  'way',\n",
       "  'world',\n",
       "  'need',\n",
       "  'give',\n",
       "  'way',\n",
       "  'otherwise',\n",
       "  'nothing',\n",
       "  'loose',\n",
       "  'lot',\n",
       "  'damage',\n",
       "  'use',\n",
       "  'nuclear',\n",
       "  'power',\n",
       "  'hope',\n",
       "  'ukraine',\n",
       "  'military',\n",
       "  'ahead',\n",
       "  'way',\n",
       "  'deal',\n",
       "  'nuclear',\n",
       "  'threats'],\n",
       " ['russian', 'troop', 'ukraine', 'war', 'condemn']]"
      ]
     },
     "execution_count": 769,
     "metadata": {},
     "output_type": "execute_result"
    }
   ],
   "source": [
    "X_cleaned[:10]"
   ]
  },
  {
   "cell_type": "code",
   "execution_count": 770,
   "metadata": {},
   "outputs": [],
   "source": [
    "import torch\n",
    "import gensim.downloader as api\n",
    "from gensim.models.word2vec import Word2Vec"
   ]
  },
  {
   "cell_type": "code",
   "execution_count": 771,
   "metadata": {},
   "outputs": [
    {
     "name": "stdout",
     "output_type": "stream",
     "text": [
      "Using cuda device\n"
     ]
    }
   ],
   "source": [
    "device = \"cuda\" if torch.cuda.is_available() else \"cpu\"\n",
    "print(f\"Using {device} device\")"
   ]
  },
  {
   "cell_type": "code",
   "execution_count": 772,
   "metadata": {},
   "outputs": [
    {
     "data": {
      "text/plain": [
       "36"
      ]
     },
     "execution_count": 772,
     "metadata": {},
     "output_type": "execute_result"
    }
   ],
   "source": [
    "max_length = max(len(sentence) for sentence in X_cleaned)\n",
    "max_length"
   ]
  },
  {
   "cell_type": "code",
   "execution_count": 773,
   "metadata": {},
   "outputs": [
    {
     "name": "stdout",
     "output_type": "stream",
     "text": [
      "Vocabulary size: 2000\n"
     ]
    }
   ],
   "source": [
    "model = Word2Vec(X_full, \n",
    "                 vector_size=100, \n",
    "                 window=9, \n",
    "                 min_count=5, \n",
    "                 workers=8, \n",
    "                 epochs=50)\n",
    "vocabulary = model.wv.index_to_key\n",
    "print(f\"Vocabulary size: {len(vocabulary)}\")"
   ]
  },
  {
   "cell_type": "code",
   "execution_count": 774,
   "metadata": {},
   "outputs": [
    {
     "name": "stdout",
     "output_type": "stream",
     "text": [
      "madness: 0.3889\n",
      "lion: 0.3885\n",
      "prison: 0.3746\n",
      "weak: 0.3732\n",
      "dictator: 0.3707\n",
      "murderous: 0.3674\n",
      "bully: 0.3539\n",
      "damn: 0.3507\n",
      "tire: 0.3457\n",
      "everyone: 0.3378\n"
     ]
    }
   ],
   "source": [
    "# Tìm từ gần nhất \n",
    "similar_words = model.wv.most_similar(\"putin\")\n",
    "for word, score in similar_words:\n",
    "    print(f\"{word}: {score:.4f}\")"
   ]
  },
  {
   "cell_type": "code",
   "execution_count": 775,
   "metadata": {},
   "outputs": [
    {
     "name": "stdout",
     "output_type": "stream",
     "text": [
      "(4437, 35, 100)\n",
      "(4437,)\n"
     ]
    }
   ],
   "source": [
    "import numpy as np\n",
    "import torch\n",
    "from torch.nn.utils.rnn import pad_sequence\n",
    "\n",
    "def vectorize(X, y, model=model):\n",
    "    X_vectors = []\n",
    "    y_vectors = []\n",
    "    # Chuyển từng từ trong mỗi câu thành vector biểu diễn và thêm padding\n",
    "    for sentence, label in zip(X, y):\n",
    "        if len(sentence) < 5:\n",
    "            continue\n",
    "\n",
    "        sentence_vectors = []\n",
    "        for word in sentence:\n",
    "            # Kiểm tra xem từ đó có trong từ vựng của mô hình Word2Vec hay không\n",
    "            if word in model.wv:\n",
    "                word_vector = model.wv[word]\n",
    "                sentence_vectors.append(word_vector)\n",
    "            else:\n",
    "                # Nếu từ không có trong từ vựng, bạn có thể sử dụng một vector thay thế hoặc bỏ qua nó\n",
    "                # Ví dụ: word_vector = np.zeros((vector_size,))\n",
    "                pass\n",
    "\n",
    "        # Thêm padding cho câu để độ dài của mỗi câu là 35\n",
    "        while len(sentence_vectors) < 35:\n",
    "            sentence_vectors.append(np.zeros((100,)))  # Sử dụng vector zeros cho padding\n",
    "\n",
    "        # Chuyển danh sách các vector thành một tensor\n",
    "        sentence_tensor = torch.tensor(sentence_vectors)\n",
    "        # Thêm câu đã được padding vào danh sách X_vectors\n",
    "        X_vectors.append(sentence_tensor)\n",
    "        y_vectors.append(label)\n",
    "\n",
    "\n",
    "    # Chuyển danh sách X_vectors thành một tensor\n",
    "    X_padded = np.array(X_vectors)\n",
    "    y_padded = np.array(y_vectors)\n",
    "    return X_padded, y_padded\n",
    "# In ra kích thước của X_padded\n",
    "X_input, y_input = vectorize(X_cleaned, y_train)\n",
    "print(X_input.shape)\n",
    "print(y_input.shape)\n"
   ]
  },
  {
   "cell_type": "code",
   "execution_count": 807,
   "metadata": {},
   "outputs": [],
   "source": [
    "import torch\n",
    "import torch.nn as nn\n",
    "\n",
    "class LSTMClassifier(nn.Module):\n",
    "    def __init__(self, input_size, hidden_size, num_layers, num_classes):\n",
    "        super(LSTMClassifier, self).__init__()\n",
    "        self.hidden_size = hidden_size\n",
    "        self.num_layers = num_layers\n",
    "        self.lstm = nn.LSTM(input_size, hidden_size, num_layers, batch_first=True)\n",
    "        self.fc1 = nn.Linear(hidden_size, 32)\n",
    "        self.fc2 = nn.Linear(32, num_classes)\n",
    "        self.relu = nn.ReLU()\n",
    "        self.dropout = nn.Dropout(0.3)\n",
    "        self.sofmax = nn.Softmax(dim=1)\n",
    "    \n",
    "    def forward(self, x):\n",
    "        # Khởi tạo hidden state và cell state\n",
    "        h0 = torch.zeros(self.num_layers, x.size(0), self.hidden_size).to(x.device)\n",
    "        c0 = torch.zeros(self.num_layers, x.size(0), self.hidden_size).to(x.device)\n",
    "        \n",
    "        # Đưa đầu vào qua LSTM\n",
    "        out, _ = self.lstm(x, (h0, c0))\n",
    "        \n",
    "        # Lấy output của lớp cuối cùng\n",
    "        out = self.dropout(out)\n",
    "        out = self.fc1(out[:, -1, :])\n",
    "        out = self.dropout(out)\n",
    "        out = self.relu(out)\n",
    "        out = self.fc2(out)\n",
    "        # out = self.sofmax(out)\n",
    "        return out\n",
    "\n",
    "# Định nghĩa các siêu tham số\n",
    "input_size = 100  # Kích thước của vectơ biểu diễn từ\n",
    "hidden_size = 64  # Kích thước của hidden state trong LSTM\n",
    "num_layers = 3  # Số lớp LSTM xếp chồng lên nhau\n",
    "num_classes = 2  # Số lớp đầu ra\n",
    "num_epochs = 100  # Số epoch\n",
    "lr = 0.001\n",
    "batch_size = 256"
   ]
  },
  {
   "cell_type": "code",
   "execution_count": 808,
   "metadata": {},
   "outputs": [],
   "source": [
    "def train_lstm(X_input, y_input, num_epochs=num_epochs):    \n",
    "    # Khởi tạo mô hình\n",
    "    lstm = LSTMClassifier(input_size, hidden_size, num_layers, num_classes)\n",
    "    criterion = nn.CrossEntropyLoss()\n",
    "    optimizer = torch.optim.Adam(lstm.parameters(), lr=lr)\n",
    "    lstm.to(device)\n",
    "\n",
    "    X_train, X_valid, y_train, y_valid = train_test_split(X_input, y_input, test_size=0.2, random_state=42, stratify=y_input)\n",
    "\n",
    "    # Xác định số lượng mẫu của mỗi lớp\n",
    "    class_0_count = np.sum(y_train == 0)\n",
    "    class_1_count = np.sum(y_train == 1)\n",
    "    # Tính toán số lượng mẫu cần thêm vào mỗi lớp để làm cho số lượng mẫu của hai lớp bằng nhau\n",
    "    sample_diff = abs(class_0_count - class_1_count)\n",
    "    samples_to_add = max(class_0_count, class_1_count) - min(class_0_count, class_1_count)\n",
    "\n",
    "    # Lấy mẫu ngẫu nhiên từ các mẫu hiện có trong lớp ít mẫu để tạo ra số lượng mẫu cần thiết và thêm vào tập train\n",
    "    if class_0_count < class_1_count:\n",
    "        X_train_class_0 = X_train[y_train == 0]\n",
    "        y_train_class_0 = y_train[y_train == 0]\n",
    "        additional_indices = np.random.choice(range(class_0_count), samples_to_add)\n",
    "        X_train_additional = X_train_class_0[additional_indices]\n",
    "        y_train_additional = y_train_class_0[additional_indices]\n",
    "        X_train = np.concatenate((X_train, X_train_additional))\n",
    "        y_train = np.concatenate((y_train, y_train_additional))\n",
    "    else:\n",
    "        X_train_class_1 = X_train[y_train == 1]\n",
    "        y_train_class_1 = y_train[y_train == 1]\n",
    "        additional_indices = np.random.choice(range(class_1_count), samples_to_add)\n",
    "        X_train_additional = X_train_class_1[additional_indices]\n",
    "        y_train_additional = y_train_class_1[additional_indices]\n",
    "        X_train = np.concatenate((X_train, X_train_additional))\n",
    "        y_train = np.concatenate((y_train, y_train_additional))\n",
    "\n",
    "    # Trộn lại dữ liệu để đảm bảo tính ngẫu nhiên\n",
    "    X_train, y_train = shuffle(X_train, y_train, random_state=42)\n",
    "\n",
    "    X_train = torch.tensor(X_train, dtype=torch.float32).to(device)\n",
    "    X_valid = torch.tensor(X_valid, dtype=torch.float32).to(device)\n",
    "    y_train = torch.tensor(y_train).to(device)\n",
    "    y_valid = torch.tensor(y_valid).to(device)\n",
    "\n",
    "    # Tạo DataLoader cho dữ liệu train và validation\n",
    "    train_dataset = TensorDataset(X_train, y_train)\n",
    "\n",
    "    valid_dataset = TensorDataset(X_valid, y_valid)\n",
    "    valid_loader = DataLoader(valid_dataset, batch_size=batch_size, shuffle=False)\n",
    "\n",
    "    # Vòng lặp huấn luyện\n",
    "    losses_train = []\n",
    "    losses_valid = []\n",
    "    accuracies = []\n",
    "    for epoch in range(1, num_epochs + 1):\n",
    "        train_loader = DataLoader(train_dataset, batch_size=batch_size, shuffle=True)\n",
    "\n",
    "        # Huấn luyện\n",
    "        lstm.train()\n",
    "        for X_batch, y_batch in train_loader:\n",
    "            optimizer.zero_grad()\n",
    "            outputs = lstm(X_batch)\n",
    "            loss = criterion(outputs, y_batch)\n",
    "            loss.backward()\n",
    "            optimizer.step()\n",
    "\n",
    "        # In ra loss sau mỗi 5 eclass_0_count = np.sum(predicted_labels == 0)\n",
    "        if epoch % 5 == 0:\n",
    "\n",
    "            # Đánh giá mô hình trên tập validation\n",
    "            lstm.eval()\n",
    "            with torch.no_grad():\n",
    "                # for X_batch, y_batch in valid_loader:\n",
    "                outputs_train = lstm(X_train)\n",
    "                loss_train = criterion(outputs_train, y_train)\n",
    "                losses_train.append(loss_train.item())\n",
    "                print(f\"Epoch {epoch}, Loss train: {loss_train.item()}\")\n",
    "\n",
    "                outputs_valid = lstm(X_valid)\n",
    "                loss_valid = criterion(outputs_valid, y_valid)\n",
    "                losses_valid.append(loss_valid.item())\n",
    "                print(f\"Epoch {epoch}, Loss validate: {loss_valid.item()}\")\n",
    "\n",
    "            _, predicted = torch.max(outputs_valid, 1)\n",
    "            predicted_labels = predicted.cpu().numpy()\n",
    "            true_labels = y_valid.cpu().numpy()\n",
    "            accuracy = accuracy_score(true_labels, predicted_labels)\n",
    "            accuracies.append(accuracy)\n",
    "            precision = precision_score(true_labels, predicted_labels)\n",
    "            recall = recall_score(true_labels, predicted_labels)\n",
    "            f1 = f1_score(true_labels, predicted_labels)\n",
    "\n",
    "            print(\"Accuracy:\", accuracy)\n",
    "            print(\"Precision:\", precision)\n",
    "            print(\"Recall:\", recall)\n",
    "            print(\"F1 Score:\", f1)\n",
    "\n",
    "            print(\"=========================================\")\n",
    "    return lstm, losses_train, losses_valid, accuracies"
   ]
  },
  {
   "cell_type": "code",
   "execution_count": 809,
   "metadata": {},
   "outputs": [
    {
     "name": "stdout",
     "output_type": "stream",
     "text": [
      "Epoch 5, Loss train: 0.6433873772621155\n",
      "Epoch 5, Loss validate: 0.648680567741394\n",
      "Accuracy: 0.6238738738738738\n",
      "Precision: 0.38823529411764707\n",
      "Recall: 0.5116279069767442\n",
      "F1 Score: 0.4414715719063546\n",
      "=========================================\n",
      "Epoch 10, Loss train: 0.49023786187171936\n",
      "Epoch 10, Loss validate: 0.6694823503494263\n",
      "Accuracy: 0.6531531531531531\n",
      "Precision: 0.4161073825503356\n",
      "Recall: 0.4806201550387597\n",
      "F1 Score: 0.4460431654676259\n",
      "=========================================\n",
      "Epoch 15, Loss train: 0.35675328969955444\n",
      "Epoch 15, Loss validate: 0.7111566066741943\n",
      "Accuracy: 0.6813063063063063\n",
      "Precision: 0.4458874458874459\n",
      "Recall: 0.3992248062015504\n",
      "F1 Score: 0.42126789366053174\n",
      "=========================================\n",
      "Epoch 20, Loss train: 0.274136483669281\n",
      "Epoch 20, Loss validate: 0.7957527041435242\n",
      "Accuracy: 0.6891891891891891\n",
      "Precision: 0.46017699115044247\n",
      "Recall: 0.40310077519379844\n",
      "F1 Score: 0.4297520661157025\n",
      "=========================================\n",
      "Epoch 25, Loss train: 0.24780791997909546\n",
      "Epoch 25, Loss validate: 0.9524704813957214\n",
      "Accuracy: 0.6644144144144144\n",
      "Precision: 0.42592592592592593\n",
      "Recall: 0.44573643410852715\n",
      "F1 Score: 0.43560606060606066\n",
      "=========================================\n",
      "Epoch 30, Loss train: 0.19923987984657288\n",
      "Epoch 30, Loss validate: 1.0485975742340088\n",
      "Accuracy: 0.6711711711711712\n",
      "Precision: 0.42857142857142855\n",
      "Recall: 0.3953488372093023\n",
      "F1 Score: 0.41129032258064513\n",
      "=========================================\n",
      "Epoch 35, Loss train: 0.16439637541770935\n",
      "Epoch 35, Loss validate: 1.3344248533248901\n",
      "Accuracy: 0.6745495495495496\n",
      "Precision: 0.4340425531914894\n",
      "Recall: 0.3953488372093023\n",
      "F1 Score: 0.4137931034482759\n",
      "=========================================\n",
      "Epoch 40, Loss train: 0.11525317281484604\n",
      "Epoch 40, Loss validate: 1.4364148378372192\n",
      "Accuracy: 0.6565315315315315\n",
      "Precision: 0.40329218106995884\n",
      "Recall: 0.3798449612403101\n",
      "F1 Score: 0.39121756487025955\n",
      "=========================================\n",
      "Epoch 45, Loss train: 0.07941097766160965\n",
      "Epoch 45, Loss validate: 1.6305956840515137\n",
      "Accuracy: 0.6351351351351351\n",
      "Precision: 0.38461538461538464\n",
      "Recall: 0.4263565891472868\n",
      "F1 Score: 0.4044117647058823\n",
      "=========================================\n",
      "Epoch 50, Loss train: 0.06523387134075165\n",
      "Epoch 50, Loss validate: 1.8459012508392334\n",
      "Accuracy: 0.6396396396396397\n",
      "Precision: 0.3908450704225352\n",
      "Recall: 0.43023255813953487\n",
      "F1 Score: 0.4095940959409594\n",
      "=========================================\n",
      "Epoch 55, Loss train: 0.03930974379181862\n",
      "Epoch 55, Loss validate: 1.9777277708053589\n",
      "Accuracy: 0.6441441441441441\n",
      "Precision: 0.397887323943662\n",
      "Recall: 0.437984496124031\n",
      "F1 Score: 0.41697416974169743\n",
      "=========================================\n",
      "Epoch 60, Loss train: 0.020090943202376366\n",
      "Epoch 60, Loss validate: 2.18306040763855\n",
      "Accuracy: 0.6599099099099099\n",
      "Precision: 0.4051724137931034\n",
      "Recall: 0.3643410852713178\n",
      "F1 Score: 0.3836734693877551\n",
      "=========================================\n",
      "Epoch 65, Loss train: 0.021544676274061203\n",
      "Epoch 65, Loss validate: 2.159457206726074\n",
      "Accuracy: 0.661036036036036\n",
      "Precision: 0.4052863436123348\n",
      "Recall: 0.35658914728682173\n",
      "F1 Score: 0.37938144329896906\n",
      "=========================================\n",
      "Epoch 70, Loss train: 0.016216827556490898\n",
      "Epoch 70, Loss validate: 2.3233375549316406\n",
      "Accuracy: 0.6554054054054054\n",
      "Precision: 0.4069767441860465\n",
      "Recall: 0.4069767441860465\n",
      "F1 Score: 0.40697674418604657\n",
      "=========================================\n",
      "Epoch 75, Loss train: 0.017114151269197464\n",
      "Epoch 75, Loss validate: 2.118022918701172\n",
      "Accuracy: 0.6407657657657657\n",
      "Precision: 0.3882783882783883\n",
      "Recall: 0.4108527131782946\n",
      "F1 Score: 0.3992467043314501\n",
      "=========================================\n",
      "Epoch 80, Loss train: 0.007423092611134052\n",
      "Epoch 80, Loss validate: 2.5070536136627197\n",
      "Accuracy: 0.6497747747747747\n",
      "Precision: 0.3872340425531915\n",
      "Recall: 0.35271317829457366\n",
      "F1 Score: 0.3691683569979717\n",
      "=========================================\n",
      "Epoch 85, Loss train: 0.006502344738692045\n",
      "Epoch 85, Loss validate: 2.7052314281463623\n",
      "Accuracy: 0.6475225225225225\n",
      "Precision: 0.39776951672862454\n",
      "Recall: 0.41472868217054265\n",
      "F1 Score: 0.4060721062618596\n",
      "=========================================\n",
      "Epoch 90, Loss train: 0.004551519639790058\n",
      "Epoch 90, Loss validate: 2.777514696121216\n",
      "Accuracy: 0.6576576576576577\n",
      "Precision: 0.408\n",
      "Recall: 0.3953488372093023\n",
      "F1 Score: 0.40157480314960625\n",
      "=========================================\n",
      "Epoch 95, Loss train: 0.0047276695258915424\n",
      "Epoch 95, Loss validate: 2.9461381435394287\n",
      "Accuracy: 0.668918918918919\n",
      "Precision: 0.42857142857142855\n",
      "Recall: 0.4186046511627907\n",
      "F1 Score: 0.42352941176470593\n",
      "=========================================\n",
      "Epoch 100, Loss train: 0.01105288416147232\n",
      "Epoch 100, Loss validate: 2.0974576473236084\n",
      "Accuracy: 0.6711711711711712\n",
      "Precision: 0.4267241379310345\n",
      "Recall: 0.38372093023255816\n",
      "F1 Score: 0.4040816326530612\n",
      "=========================================\n"
     ]
    }
   ],
   "source": [
    "lstm, losses_train, losses_valid, accuracies = train_lstm(X_input, y_input)"
   ]
  },
  {
   "cell_type": "code",
   "execution_count": 810,
   "metadata": {},
   "outputs": [
    {
     "data": {
      "image/png": "[encoded data removed]",
      "text/plain": [
       "<Figure size 640x480 with 1 Axes>"
      ]
     },
     "metadata": {},
     "output_type": "display_data"
    }
   ],
   "source": [
    "plt.plot(losses_train, label='Train Loss')\n",
    "plt.plot(losses_valid, label='Validation Loss')\n",
    "plt.xlabel('Epoch')\n",
    "plt.ylabel('Loss')\n",
    "plt.title('Training and Validation Loss')\n",
    "plt.legend()\n",
    "plt.show()\n"
   ]
  },
  {
   "cell_type": "markdown",
   "metadata": {},
   "source": [
    "# Test"
   ]
  },
  {
   "cell_type": "code",
   "execution_count": 811,
   "metadata": {},
   "outputs": [
    {
     "name": "stdout",
     "output_type": "stream",
     "text": [
      "31\n"
     ]
    }
   ],
   "source": [
    "X_test_cleaned = [lemma(text) for text in X_test]\n",
    "test_max_length = max(len(sentence) for sentence in X_test_cleaned)\n",
    "print(test_max_length)"
   ]
  },
  {
   "cell_type": "code",
   "execution_count": 812,
   "metadata": {},
   "outputs": [
    {
     "name": "stdout",
     "output_type": "stream",
     "text": [
      "(1104, 35, 100)\n",
      "(1104,)\n"
     ]
    }
   ],
   "source": [
    "X_test_vector, y_test_vector = vectorize(X_test_cleaned, y_test)\n",
    "print(X_test_vector.shape)\n",
    "print(y_test_vector.shape)"
   ]
  },
  {
   "cell_type": "code",
   "execution_count": 813,
   "metadata": {},
   "outputs": [
    {
     "name": "stdout",
     "output_type": "stream",
     "text": [
      "Accuracy: 0.6530797101449275\n",
      "Precision: 0.39935064935064934\n",
      "Recall: 0.38317757009345793\n",
      "F1 Score: 0.39109697933227344\n"
     ]
    }
   ],
   "source": [
    "outputs_test = lstm(torch.tensor(X_test_vector, dtype=torch.float32).to(device))\n",
    "\n",
    "_, predicted = torch.max(outputs_test, 1)\n",
    "predicted_labels = predicted.cpu().numpy()\n",
    "true_labels = y_test_vector\n",
    "accuracy = accuracy_score(true_labels, predicted_labels)\n",
    "accuracies.append(accuracy)\n",
    "precision = precision_score(true_labels, predicted_labels)\n",
    "recall = recall_score(true_labels, predicted_labels)\n",
    "f1 = f1_score(true_labels, predicted_labels)\n",
    "\n",
    "print(\"Accuracy:\", accuracy)\n",
    "print(\"Precision:\", precision)\n",
    "print(\"Recall:\", recall)\n",
    "print(\"F1 Score:\", f1)\n"
   ]
  },
  {
   "cell_type": "code",
   "execution_count": 814,
   "metadata": {},
   "outputs": [
    {
     "name": "stdout",
     "output_type": "stream",
     "text": [
      "Class 0: 796\n",
      "Class 1: 308\n"
     ]
    }
   ],
   "source": [
    "# Convert the predicted labels to a numpy array\n",
    "predicted_labels = np.array(predicted_labels)\n",
    "\n",
    "# Count the number of occurrences of each class\n",
    "class_counts = np.bincount(predicted_labels)\n",
    "\n",
    "# Print the class counts\n",
    "for class_label, count in enumerate(class_counts):\n",
    "    print(f\"Class {class_label}: {count}\")\n"
   ]
  }
 ],
 "metadata": {
  "kernelspec": {
   "display_name": "NLP",
   "language": "python",
   "name": "python3"
  },
  "language_info": {
   "codemirror_mode": {
    "name": "ipython",
    "version": 3
   },
   "file_extension": ".py",
   "mimetype": "text/x-python",
   "name": "python",
   "nbconvert_exporter": "python",
   "pygments_lexer": "ipython3",
   "version": "3.9.18"
  }
 },
 "nbformat": 4,
 "nbformat_minor": 2
}
